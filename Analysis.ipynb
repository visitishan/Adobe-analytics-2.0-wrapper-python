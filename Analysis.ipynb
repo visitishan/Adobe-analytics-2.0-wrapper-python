{
  "nbformat": 4,
  "nbformat_minor": 0,
  "metadata": {
    "colab": {
      "provenance": [],
      "authorship_tag": "ABX9TyP1XtC1AFU1XxsJnXBmaQSD",
      "include_colab_link": true
    },
    "kernelspec": {
      "name": "python3",
      "display_name": "Python 3"
    },
    "language_info": {
      "name": "python"
    }
  },
  "cells": [
    {
      "cell_type": "markdown",
      "metadata": {
        "id": "view-in-github",
        "colab_type": "text"
      },
      "source": [
        "<a href=\"https://colab.research.google.com/github/visitishan/Adobe-analytics-2.0-wrapper-python/blob/master/Analysis.ipynb\" target=\"_parent\"><img src=\"https://colab.research.google.com/assets/colab-badge.svg\" alt=\"Open In Colab\"/></a>"
      ]
    },
    {
      "cell_type": "markdown",
      "source": [
        "# ML Assignment Part - B\n",
        "\n",
        "Refer to the Starbucks Drinks Menu dataset . Use python based APIs and perform the following four classes of activities.\n",
        "\n",
        "1 EDA a. Perform Exploratory Data Analysis to gather insight from the dataset. Write your inference about the analysis learned from visualizations (minimum 3)\n",
        "\n",
        "2 CLASSIFICATION (any of the Logistic Regression / SVM / Decision Tree/ Naïve Bayes/KNN/ANN). Justify your design choices at each step: Write as a markdown cell in jupyter notebook at the beginning of each subsection. a. Perform and explain necessary pre-processing / feature engineering on this dataset b. Perform the Machine Learning activity. Explain the choice of target attribute, classification type, model selected with reason c. Quantify and explain the quality of your ML model. Explain the choice of evaluation metric d. Your observation about the results (Hint: comment on the problem statement and conclude the effectiveness of the machine learning activity)\n",
        "\n",
        "3 Regression Any of the Linear Regression (any of Gradient / Stochastic / MiniBatch)/linear basis models/KNN/Locally weighted regression/ any of the regularization techniques). Justify your design choices at each step: Write as a markdown cell in jupyter notebook at the beginning of each subsection. a. Perform and explain necessary pre-processing / feature engineering on this dataset b. Perform the Machine Learning activity. Explain Attributes of interest, Regularization type with reason, model selected with reason c. Quantify and explain the quality of your ML model. Explain the choice of evaluation metric d. Your observation about the results (Hint: comment on the problem statement and conclude the effectiveness of the machine learning activity)\n",
        "\n",
        "4 Ensemble ML Justify your design choices at each step: Write as a markdown cell in jupyter notebook at the beginning of each subsection. a. Perform and explain necessary pre-processing / feature engineering on this dataset b. Perform the Machine Learning activity. Explain Attributes of interest, base classifier chosen with reason, model selected with reason c. Quantify and explain the quality of your ML model. Explain the choice of evaluation metric d. Your observation about the results (Hint: comment on the problem statement and conclude the effectiveness of the machine learning activity)"
      ],
      "metadata": {
        "id": "53NQ2U0aS4N_"
      }
    },
    {
      "cell_type": "code",
      "source": [
        "%%javascript\n",
        "IPython.OutputArea.prototype._should_scroll = function(lines) {\n",
        "    return false;\n",
        "}"
      ],
      "metadata": {
        "colab": {
          "base_uri": "https://localhost:8080/",
          "height": 17
        },
        "id": "PNy4FjR9S2Sy",
        "outputId": "71d95fce-1e4f-4dcc-9bec-771fd6b0d14d"
      },
      "execution_count": 1,
      "outputs": [
        {
          "output_type": "display_data",
          "data": {
            "text/plain": [
              "<IPython.core.display.Javascript object>"
            ],
            "application/javascript": [
              "IPython.OutputArea.prototype._should_scroll = function(lines) {\n",
              "    return false;\n",
              "}\n"
            ]
          },
          "metadata": {}
        }
      ]
    },
    {
      "cell_type": "markdown",
      "source": [
        "### Importing the libraries and loading the dataset."
      ],
      "metadata": {
        "id": "VwLzDEXFdlZh"
      }
    },
    {
      "cell_type": "code",
      "execution_count": 2,
      "metadata": {
        "id": "t4lc1EOyD-bj"
      },
      "outputs": [],
      "source": [
        "#importing the libraries\n",
        "import pandas as pd\n",
        "import numpy as np\n",
        "import seaborn as sns\n",
        "import matplotlib.pyplot as plt\n",
        "%matplotlib inline\n",
        "from sklearn.experimental import enable_iterative_imputer\n",
        "from sklearn.impute import IterativeImputer\n",
        "from sklearn.preprocessing import StandardScaler\n",
        "\n",
        "# Importing machine learning models\n",
        "from sklearn.linear_model import LinearRegression, RidgeCV, LassoCV, ElasticNetCV\n",
        "from sklearn.ensemble import RandomForestRegressor\n",
        "from xgboost import XGBRegressor\n",
        "\n",
        "# Importing evaluating and model selection tools\n",
        "from sklearn.model_selection import cross_val_score, train_test_split, cross_validate, GridSearchCV\n",
        "from sklearn.metrics import mean_squared_error, mean_absolute_error, max_error\n",
        "from sklearn.feature_selection import SelectFromModel\n",
        "\n",
        "!pip install category-encoders"
      ]
    },
    {
      "cell_type": "code",
      "source": [
        "#reading the data\n",
        "data = pd.read_csv(\"/content/starbucks_drinks.csv\")"
      ],
      "metadata": {
        "id": "ohcsYdkSEI_k"
      },
      "execution_count": 3,
      "outputs": []
    },
    {
      "cell_type": "code",
      "source": [
        "# information about the data\n",
        "data.info()"
      ],
      "metadata": {
        "colab": {
          "base_uri": "https://localhost:8080/"
        },
        "id": "RdSuoD94TPNE",
        "outputId": "fdc724f4-507f-477c-859f-83a8e95c2521"
      },
      "execution_count": 4,
      "outputs": [
        {
          "output_type": "stream",
          "name": "stdout",
          "text": [
            "<class 'pandas.core.frame.DataFrame'>\n",
            "RangeIndex: 242 entries, 0 to 241\n",
            "Data columns (total 18 columns):\n",
            " #   Column                    Non-Null Count  Dtype  \n",
            "---  ------                    --------------  -----  \n",
            " 0   Beverage_category         242 non-null    object \n",
            " 1   Beverage                  242 non-null    object \n",
            " 2   Beverage_prep             242 non-null    object \n",
            " 3   Calories                  242 non-null    int64  \n",
            " 4   Total Fat (g)             242 non-null    object \n",
            " 5   Trans Fat (g)             242 non-null    float64\n",
            " 6   Saturated Fat (g)         242 non-null    float64\n",
            " 7   Sodium (mg)               242 non-null    int64  \n",
            " 8   Total Carbohydrates (g)   242 non-null    int64  \n",
            " 9   Cholesterol (mg)          242 non-null    int64  \n",
            " 10  Dietary Fibre (g)         242 non-null    int64  \n",
            " 11  Sugars (g)                242 non-null    int64  \n",
            " 12  Protein (g)               242 non-null    float64\n",
            " 13  Vitamin A (% DV)          242 non-null    object \n",
            " 14  Vitamin C (% DV)          242 non-null    object \n",
            " 15  Calcium (% DV)            242 non-null    object \n",
            " 16  Iron (% DV)               242 non-null    object \n",
            " 17  Caffeine (mg)             241 non-null    object \n",
            "dtypes: float64(3), int64(6), object(9)\n",
            "memory usage: 34.2+ KB\n"
          ]
        }
      ]
    },
    {
      "cell_type": "code",
      "source": [
        "#checking the columns of data\n",
        "data.columns"
      ],
      "metadata": {
        "colab": {
          "base_uri": "https://localhost:8080/"
        },
        "id": "cTdqBHCkENyO",
        "outputId": "3d83ce50-e6ef-4383-c344-beb88326969f"
      },
      "execution_count": 5,
      "outputs": [
        {
          "output_type": "execute_result",
          "data": {
            "text/plain": [
              "Index(['Beverage_category', 'Beverage', 'Beverage_prep', 'Calories',\n",
              "       'Total Fat (g)', 'Trans Fat (g) ', 'Saturated Fat (g)', 'Sodium (mg)',\n",
              "       'Total Carbohydrates (g) ', 'Cholesterol (mg)', 'Dietary Fibre (g)',\n",
              "       'Sugars (g)', 'Protein (g) ', 'Vitamin A (% DV) ', 'Vitamin C (% DV)',\n",
              "       'Calcium (% DV) ', 'Iron (% DV) ', 'Caffeine (mg)'],\n",
              "      dtype='object')"
            ]
          },
          "metadata": {},
          "execution_count": 5
        }
      ]
    },
    {
      "cell_type": "markdown",
      "source": [
        "Since the column names contain special characters and spaces, we are renaming the columns by .rename function of pandas."
      ],
      "metadata": {
        "id": "rQj19XsqGi-R"
      }
    },
    {
      "cell_type": "code",
      "source": [
        "#renaming columns\n",
        "data = data.rename(columns={'Total Fat (g)': 'Total Fat', 'Trans Fat (g) ': 'Trans Fat',\n",
        "                                            'Saturated Fat (g)': 'Saturated Fat', 'Sodium (mg)': 'Sodium',\n",
        "                                            'Total Carbohydrates (g) ': 'Total Carbohydrates',\n",
        "                                            'Cholesterol (mg)': 'Cholesterol', 'Dietary Fibre (g)': 'Dietary Fibre',\n",
        "                                            'Sugars (g)': 'Sugars', 'Protein (g) ': 'Protein',\n",
        "                                            'Vitamin A (% DV) ': 'Vitamin A (% DV)', 'Calcium (% DV) ': 'Calcium (% DV)',\n",
        "                                            'Iron (% DV) ': 'Iron (% DV)', 'Caffeine (mg)': 'Caffeine'})\n",
        "data.columns"
      ],
      "metadata": {
        "colab": {
          "base_uri": "https://localhost:8080/"
        },
        "id": "Taq2KWBaGzWl",
        "outputId": "ccda5019-e122-4c2f-80ef-339688114ba1"
      },
      "execution_count": 6,
      "outputs": [
        {
          "output_type": "execute_result",
          "data": {
            "text/plain": [
              "Index(['Beverage_category', 'Beverage', 'Beverage_prep', 'Calories',\n",
              "       'Total Fat', 'Trans Fat', 'Saturated Fat', 'Sodium',\n",
              "       'Total Carbohydrates', 'Cholesterol', 'Dietary Fibre', 'Sugars',\n",
              "       'Protein', 'Vitamin A (% DV)', 'Vitamin C (% DV)', 'Calcium (% DV)',\n",
              "       'Iron (% DV)', 'Caffeine'],\n",
              "      dtype='object')"
            ]
          },
          "metadata": {},
          "execution_count": 6
        }
      ]
    },
    {
      "cell_type": "markdown",
      "source": [
        "Viewing the sample of our data"
      ],
      "metadata": {
        "id": "nNKI8V5rHvLi"
      }
    },
    {
      "cell_type": "code",
      "source": [
        "#printing a sample of data\n",
        "data.head()"
      ],
      "metadata": {
        "colab": {
          "base_uri": "https://localhost:8080/",
          "height": 391
        },
        "id": "Mtspj4bcEMSa",
        "outputId": "d65c0386-6a91-4fd2-de65-420b94510d6f"
      },
      "execution_count": 7,
      "outputs": [
        {
          "output_type": "execute_result",
          "data": {
            "text/plain": [
              "         Beverage_category       Beverage      Beverage_prep  Calories  \\\n",
              "0                   Coffee  Brewed Coffee              Short         3   \n",
              "1                   Coffee  Brewed Coffee               Tall         4   \n",
              "2                   Coffee  Brewed Coffee             Grande         5   \n",
              "3                   Coffee  Brewed Coffee              Venti         5   \n",
              "4  Classic Espresso Drinks    Caffè Latte  Short Nonfat Milk        70   \n",
              "\n",
              "  Total Fat  Trans Fat  Saturated Fat  Sodium  Total Carbohydrates  \\\n",
              "0       0.1        0.0            0.0       0                    5   \n",
              "1       0.1        0.0            0.0       0                   10   \n",
              "2       0.1        0.0            0.0       0                   10   \n",
              "3       0.1        0.0            0.0       0                   10   \n",
              "4       0.1        0.1            0.0       5                   75   \n",
              "\n",
              "   Cholesterol  Dietary Fibre  Sugars  Protein Vitamin A (% DV)  \\\n",
              "0            0              0       0      0.3               0%   \n",
              "1            0              0       0      0.5               0%   \n",
              "2            0              0       0      1.0               0%   \n",
              "3            0              0       0      1.0               0%   \n",
              "4           10              0       9      6.0              10%   \n",
              "\n",
              "  Vitamin C (% DV) Calcium (% DV) Iron (% DV) Caffeine  \n",
              "0               0%             0%          0%      175  \n",
              "1               0%             0%          0%      260  \n",
              "2               0%             0%          0%      330  \n",
              "3               0%             2%          0%      410  \n",
              "4               0%            20%          0%       75  "
            ],
            "text/html": [
              "\n",
              "  <div id=\"df-6d5cbf40-e996-4288-88bc-d00cf1758760\">\n",
              "    <div class=\"colab-df-container\">\n",
              "      <div>\n",
              "<style scoped>\n",
              "    .dataframe tbody tr th:only-of-type {\n",
              "        vertical-align: middle;\n",
              "    }\n",
              "\n",
              "    .dataframe tbody tr th {\n",
              "        vertical-align: top;\n",
              "    }\n",
              "\n",
              "    .dataframe thead th {\n",
              "        text-align: right;\n",
              "    }\n",
              "</style>\n",
              "<table border=\"1\" class=\"dataframe\">\n",
              "  <thead>\n",
              "    <tr style=\"text-align: right;\">\n",
              "      <th></th>\n",
              "      <th>Beverage_category</th>\n",
              "      <th>Beverage</th>\n",
              "      <th>Beverage_prep</th>\n",
              "      <th>Calories</th>\n",
              "      <th>Total Fat</th>\n",
              "      <th>Trans Fat</th>\n",
              "      <th>Saturated Fat</th>\n",
              "      <th>Sodium</th>\n",
              "      <th>Total Carbohydrates</th>\n",
              "      <th>Cholesterol</th>\n",
              "      <th>Dietary Fibre</th>\n",
              "      <th>Sugars</th>\n",
              "      <th>Protein</th>\n",
              "      <th>Vitamin A (% DV)</th>\n",
              "      <th>Vitamin C (% DV)</th>\n",
              "      <th>Calcium (% DV)</th>\n",
              "      <th>Iron (% DV)</th>\n",
              "      <th>Caffeine</th>\n",
              "    </tr>\n",
              "  </thead>\n",
              "  <tbody>\n",
              "    <tr>\n",
              "      <th>0</th>\n",
              "      <td>Coffee</td>\n",
              "      <td>Brewed Coffee</td>\n",
              "      <td>Short</td>\n",
              "      <td>3</td>\n",
              "      <td>0.1</td>\n",
              "      <td>0.0</td>\n",
              "      <td>0.0</td>\n",
              "      <td>0</td>\n",
              "      <td>5</td>\n",
              "      <td>0</td>\n",
              "      <td>0</td>\n",
              "      <td>0</td>\n",
              "      <td>0.3</td>\n",
              "      <td>0%</td>\n",
              "      <td>0%</td>\n",
              "      <td>0%</td>\n",
              "      <td>0%</td>\n",
              "      <td>175</td>\n",
              "    </tr>\n",
              "    <tr>\n",
              "      <th>1</th>\n",
              "      <td>Coffee</td>\n",
              "      <td>Brewed Coffee</td>\n",
              "      <td>Tall</td>\n",
              "      <td>4</td>\n",
              "      <td>0.1</td>\n",
              "      <td>0.0</td>\n",
              "      <td>0.0</td>\n",
              "      <td>0</td>\n",
              "      <td>10</td>\n",
              "      <td>0</td>\n",
              "      <td>0</td>\n",
              "      <td>0</td>\n",
              "      <td>0.5</td>\n",
              "      <td>0%</td>\n",
              "      <td>0%</td>\n",
              "      <td>0%</td>\n",
              "      <td>0%</td>\n",
              "      <td>260</td>\n",
              "    </tr>\n",
              "    <tr>\n",
              "      <th>2</th>\n",
              "      <td>Coffee</td>\n",
              "      <td>Brewed Coffee</td>\n",
              "      <td>Grande</td>\n",
              "      <td>5</td>\n",
              "      <td>0.1</td>\n",
              "      <td>0.0</td>\n",
              "      <td>0.0</td>\n",
              "      <td>0</td>\n",
              "      <td>10</td>\n",
              "      <td>0</td>\n",
              "      <td>0</td>\n",
              "      <td>0</td>\n",
              "      <td>1.0</td>\n",
              "      <td>0%</td>\n",
              "      <td>0%</td>\n",
              "      <td>0%</td>\n",
              "      <td>0%</td>\n",
              "      <td>330</td>\n",
              "    </tr>\n",
              "    <tr>\n",
              "      <th>3</th>\n",
              "      <td>Coffee</td>\n",
              "      <td>Brewed Coffee</td>\n",
              "      <td>Venti</td>\n",
              "      <td>5</td>\n",
              "      <td>0.1</td>\n",
              "      <td>0.0</td>\n",
              "      <td>0.0</td>\n",
              "      <td>0</td>\n",
              "      <td>10</td>\n",
              "      <td>0</td>\n",
              "      <td>0</td>\n",
              "      <td>0</td>\n",
              "      <td>1.0</td>\n",
              "      <td>0%</td>\n",
              "      <td>0%</td>\n",
              "      <td>2%</td>\n",
              "      <td>0%</td>\n",
              "      <td>410</td>\n",
              "    </tr>\n",
              "    <tr>\n",
              "      <th>4</th>\n",
              "      <td>Classic Espresso Drinks</td>\n",
              "      <td>Caffè Latte</td>\n",
              "      <td>Short Nonfat Milk</td>\n",
              "      <td>70</td>\n",
              "      <td>0.1</td>\n",
              "      <td>0.1</td>\n",
              "      <td>0.0</td>\n",
              "      <td>5</td>\n",
              "      <td>75</td>\n",
              "      <td>10</td>\n",
              "      <td>0</td>\n",
              "      <td>9</td>\n",
              "      <td>6.0</td>\n",
              "      <td>10%</td>\n",
              "      <td>0%</td>\n",
              "      <td>20%</td>\n",
              "      <td>0%</td>\n",
              "      <td>75</td>\n",
              "    </tr>\n",
              "  </tbody>\n",
              "</table>\n",
              "</div>\n",
              "      <button class=\"colab-df-convert\" onclick=\"convertToInteractive('df-6d5cbf40-e996-4288-88bc-d00cf1758760')\"\n",
              "              title=\"Convert this dataframe to an interactive table.\"\n",
              "              style=\"display:none;\">\n",
              "        \n",
              "  <svg xmlns=\"http://www.w3.org/2000/svg\" height=\"24px\"viewBox=\"0 0 24 24\"\n",
              "       width=\"24px\">\n",
              "    <path d=\"M0 0h24v24H0V0z\" fill=\"none\"/>\n",
              "    <path d=\"M18.56 5.44l.94 2.06.94-2.06 2.06-.94-2.06-.94-.94-2.06-.94 2.06-2.06.94zm-11 1L8.5 8.5l.94-2.06 2.06-.94-2.06-.94L8.5 2.5l-.94 2.06-2.06.94zm10 10l.94 2.06.94-2.06 2.06-.94-2.06-.94-.94-2.06-.94 2.06-2.06.94z\"/><path d=\"M17.41 7.96l-1.37-1.37c-.4-.4-.92-.59-1.43-.59-.52 0-1.04.2-1.43.59L10.3 9.45l-7.72 7.72c-.78.78-.78 2.05 0 2.83L4 21.41c.39.39.9.59 1.41.59.51 0 1.02-.2 1.41-.59l7.78-7.78 2.81-2.81c.8-.78.8-2.07 0-2.86zM5.41 20L4 18.59l7.72-7.72 1.47 1.35L5.41 20z\"/>\n",
              "  </svg>\n",
              "      </button>\n",
              "      \n",
              "  <style>\n",
              "    .colab-df-container {\n",
              "      display:flex;\n",
              "      flex-wrap:wrap;\n",
              "      gap: 12px;\n",
              "    }\n",
              "\n",
              "    .colab-df-convert {\n",
              "      background-color: #E8F0FE;\n",
              "      border: none;\n",
              "      border-radius: 50%;\n",
              "      cursor: pointer;\n",
              "      display: none;\n",
              "      fill: #1967D2;\n",
              "      height: 32px;\n",
              "      padding: 0 0 0 0;\n",
              "      width: 32px;\n",
              "    }\n",
              "\n",
              "    .colab-df-convert:hover {\n",
              "      background-color: #E2EBFA;\n",
              "      box-shadow: 0px 1px 2px rgba(60, 64, 67, 0.3), 0px 1px 3px 1px rgba(60, 64, 67, 0.15);\n",
              "      fill: #174EA6;\n",
              "    }\n",
              "\n",
              "    [theme=dark] .colab-df-convert {\n",
              "      background-color: #3B4455;\n",
              "      fill: #D2E3FC;\n",
              "    }\n",
              "\n",
              "    [theme=dark] .colab-df-convert:hover {\n",
              "      background-color: #434B5C;\n",
              "      box-shadow: 0px 1px 3px 1px rgba(0, 0, 0, 0.15);\n",
              "      filter: drop-shadow(0px 1px 2px rgba(0, 0, 0, 0.3));\n",
              "      fill: #FFFFFF;\n",
              "    }\n",
              "  </style>\n",
              "\n",
              "      <script>\n",
              "        const buttonEl =\n",
              "          document.querySelector('#df-6d5cbf40-e996-4288-88bc-d00cf1758760 button.colab-df-convert');\n",
              "        buttonEl.style.display =\n",
              "          google.colab.kernel.accessAllowed ? 'block' : 'none';\n",
              "\n",
              "        async function convertToInteractive(key) {\n",
              "          const element = document.querySelector('#df-6d5cbf40-e996-4288-88bc-d00cf1758760');\n",
              "          const dataTable =\n",
              "            await google.colab.kernel.invokeFunction('convertToInteractive',\n",
              "                                                     [key], {});\n",
              "          if (!dataTable) return;\n",
              "\n",
              "          const docLinkHtml = 'Like what you see? Visit the ' +\n",
              "            '<a target=\"_blank\" href=https://colab.research.google.com/notebooks/data_table.ipynb>data table notebook</a>'\n",
              "            + ' to learn more about interactive tables.';\n",
              "          element.innerHTML = '';\n",
              "          dataTable['output_type'] = 'display_data';\n",
              "          await google.colab.output.renderOutput(dataTable, element);\n",
              "          const docLink = document.createElement('div');\n",
              "          docLink.innerHTML = docLinkHtml;\n",
              "          element.appendChild(docLink);\n",
              "        }\n",
              "      </script>\n",
              "    </div>\n",
              "  </div>\n",
              "  "
            ]
          },
          "metadata": {},
          "execution_count": 7
        }
      ]
    },
    {
      "cell_type": "code",
      "source": [
        "#checking the shape of our dataset\n",
        "print(data.shape)"
      ],
      "metadata": {
        "colab": {
          "base_uri": "https://localhost:8080/"
        },
        "id": "Iu_C4ZkcHkm9",
        "outputId": "23191f3e-83a2-41a3-80b8-a7626482c16a"
      },
      "execution_count": 8,
      "outputs": [
        {
          "output_type": "stream",
          "name": "stdout",
          "text": [
            "(242, 18)\n"
          ]
        }
      ]
    },
    {
      "cell_type": "code",
      "source": [
        "#printing the datatypes\n",
        "print(data.dtypes)"
      ],
      "metadata": {
        "colab": {
          "base_uri": "https://localhost:8080/"
        },
        "id": "kEoQEYOlIoiV",
        "outputId": "df2936ea-0050-4076-f381-e44a7c843559"
      },
      "execution_count": 9,
      "outputs": [
        {
          "output_type": "stream",
          "name": "stdout",
          "text": [
            "Beverage_category       object\n",
            "Beverage                object\n",
            "Beverage_prep           object\n",
            "Calories                 int64\n",
            "Total Fat               object\n",
            "Trans Fat              float64\n",
            "Saturated Fat          float64\n",
            "Sodium                   int64\n",
            "Total Carbohydrates      int64\n",
            "Cholesterol              int64\n",
            "Dietary Fibre            int64\n",
            "Sugars                   int64\n",
            "Protein                float64\n",
            "Vitamin A (% DV)        object\n",
            "Vitamin C (% DV)        object\n",
            "Calcium (% DV)          object\n",
            "Iron (% DV)             object\n",
            "Caffeine                object\n",
            "dtype: object\n"
          ]
        }
      ]
    },
    {
      "cell_type": "markdown",
      "source": [
        "From the above data types, we can see that there are a few columns which have incorrect data types. \n",
        "Example - Vitamin A (% DV) has the type object which is equivalent to it being considered text by Python."
      ],
      "metadata": {
        "id": "bYg3BWjPI3j8"
      }
    },
    {
      "cell_type": "markdown",
      "source": [
        "## Data Cleaning"
      ],
      "metadata": {
        "id": "B3xcemdUJMDL"
      }
    },
    {
      "cell_type": "markdown",
      "source": [
        "###Fixing Mismatched Data Types\n",
        "\n",
        "we can see that in the given dataset the following columns need to be fixed:\n",
        "\n",
        "*  Vitamin A (% DV)\n",
        "*  Vitamin C (% DV)\n",
        "*  Calcium (% DV)\n",
        "*  Iron (% DV)\n",
        "*  Caffeine (mg)\n",
        "*  Total Fat (g)"
      ],
      "metadata": {
        "id": "sdG6jOfRJeH3"
      }
    },
    {
      "cell_type": "markdown",
      "source": [
        "Each column of the dataset features a variety of issues we need to fix before we can convert it to numeric. For instance, the Total Fat Column has an entry \"3 2\", which can't be converted. To fix this, we will assume the entry was supposed to be \"3.2\".\n",
        "\n",
        "The biggest issue we need to fix is the columns with a percentage. Not only do we need to remove the percent symbol, but we also need to put a \"0.\" in front of the numbers. We will do this with a mixture of feature engineering and using the pandas .replace function."
      ],
      "metadata": {
        "id": "EURx-YvdKAAa"
      }
    },
    {
      "cell_type": "code",
      "source": [
        "# Add \"0.\" in front\n",
        "data['Vitamin A (% DV)'] = \"0.\" + data['Vitamin A (% DV)']\n",
        "data['Vitamin C (% DV)'] = \"0.\" + data['Vitamin C (% DV)']\n",
        "data['Calcium (% DV)'] = \"0.\" + data['Calcium (% DV)']\n",
        "data['Iron (% DV)'] = \"0.\" + data['Iron (% DV)']\n",
        "\n",
        "# Removing \"%\" from percent columns\n",
        "data = data.replace({'Vitamin A (% DV)': {'%': ''}, 'Vitamin C (% DV)': {'%': ''},\n",
        "                                     'Calcium (% DV)': {'%': ''}, 'Iron (% DV)': {'%': ''}}, regex=True)\n",
        "\n",
        "# 'Iron (% DV)' includes percentages in the form of #.00%, so we will need to do some more work\n",
        "data = data.replace({'Iron (% DV)': {'.00': ''}}, regex=True)\n",
        "\n",
        "# Replace troublesome entry\n",
        "data.loc[237, 'Total Fat'] = '3.2'\n",
        "\n",
        "# Impute None for \"Varies\" since we don't know value\n",
        "data = data.replace({'Caffeine': {'Varies': None, 'varies': None}})"
      ],
      "metadata": {
        "id": "C0492EorIviu"
      },
      "execution_count": 10,
      "outputs": []
    },
    {
      "cell_type": "code",
      "source": [
        "# Now we will convert the columns to a number format using the .to_numeric function\n",
        "# We use the .apply function to apply .to_numeric to multiple columns\n",
        "columns_to_change = ['Total Fat', 'Caffeine', 'Vitamin A (% DV)', 'Vitamin C (% DV)', 'Calcium (% DV)', 'Iron (% DV)']\n",
        "data[columns_to_change] = data[columns_to_change].apply(pd.to_numeric)\n",
        "data.dtypes"
      ],
      "metadata": {
        "colab": {
          "base_uri": "https://localhost:8080/"
        },
        "id": "4ySJOI4kMdQv",
        "outputId": "108feaed-3987-403f-ce93-9041a35f4f2c"
      },
      "execution_count": 11,
      "outputs": [
        {
          "output_type": "execute_result",
          "data": {
            "text/plain": [
              "Beverage_category       object\n",
              "Beverage                object\n",
              "Beverage_prep           object\n",
              "Calories                 int64\n",
              "Total Fat              float64\n",
              "Trans Fat              float64\n",
              "Saturated Fat          float64\n",
              "Sodium                   int64\n",
              "Total Carbohydrates      int64\n",
              "Cholesterol              int64\n",
              "Dietary Fibre            int64\n",
              "Sugars                   int64\n",
              "Protein                float64\n",
              "Vitamin A (% DV)       float64\n",
              "Vitamin C (% DV)       float64\n",
              "Calcium (% DV)         float64\n",
              "Iron (% DV)            float64\n",
              "Caffeine               float64\n",
              "dtype: object"
            ]
          },
          "metadata": {},
          "execution_count": 11
        }
      ]
    },
    {
      "cell_type": "markdown",
      "source": [
        "Now we have converted all the incorrect data types to the correct formats."
      ],
      "metadata": {
        "id": "sFjHQsELh-uX"
      }
    },
    {
      "cell_type": "markdown",
      "source": [
        "###Missing Value Analysis & Cleaning\n",
        "After we've fixed our data types and cleaned up a few values, we need to take a look at missing values, and decide how we need to handle them. We're going to go a bit deeper into why our data is missing, and first we need to know the reasons why data can be missing.\n",
        "\n",
        "The first step to cleaning missing values is getting a sense of where those missing values are, which we can start by using .isna().sum() which is identical to isnull().sum()."
      ],
      "metadata": {
        "id": "4m8KCxqTM93W"
      }
    },
    {
      "cell_type": "code",
      "source": [
        "#printing the number of missing values\n",
        "print(data.isna().sum())"
      ],
      "metadata": {
        "colab": {
          "base_uri": "https://localhost:8080/"
        },
        "id": "XOTMdVUVMkfc",
        "outputId": "9a6fc9bf-76b4-47dd-bc03-c7d35d6ca5df"
      },
      "execution_count": 12,
      "outputs": [
        {
          "output_type": "stream",
          "name": "stdout",
          "text": [
            "Beverage_category       0\n",
            "Beverage                0\n",
            "Beverage_prep           0\n",
            "Calories                0\n",
            "Total Fat               0\n",
            "Trans Fat               0\n",
            "Saturated Fat           0\n",
            "Sodium                  0\n",
            "Total Carbohydrates     0\n",
            "Cholesterol             0\n",
            "Dietary Fibre           0\n",
            "Sugars                  0\n",
            "Protein                 0\n",
            "Vitamin A (% DV)        0\n",
            "Vitamin C (% DV)        0\n",
            "Calcium (% DV)          0\n",
            "Iron (% DV)             0\n",
            "Caffeine               23\n",
            "dtype: int64\n"
          ]
        }
      ]
    },
    {
      "cell_type": "markdown",
      "source": [
        "Since we only have a few values in one column that are missing in our dataset, we would prefer not to remove 23 rows for only one problematic column, so we will impute these values."
      ],
      "metadata": {
        "id": "LgMdKAT5NgSN"
      }
    },
    {
      "cell_type": "markdown",
      "source": [
        "To impute the missing values in the Caffeine column, we could just impute the mean value, but mean imputation is rather problematic. The reason why is that it changes how our data is distributed because it reduces the variance of the data.\n",
        "\n",
        "Essentially, we want our imputed values to be a realistic approximation of what the missing data would've been, however if we just impute values that are central within the data distribution, then naturally our data distribution is going to become more centralized.\n",
        "\n",
        "In actual data analysis we never want to be imputing with the mean, so we use the imputation technique: Iterative Imputing."
      ],
      "metadata": {
        "id": "7espXJHlN-mX"
      }
    },
    {
      "cell_type": "code",
      "source": [
        "iter_imputer = IterativeImputer(missing_values=np.nan, max_iter=10, verbose=2, imputation_order='roman', random_state=24)\n",
        "\n",
        "# Breakdown of arguments (useful but not necessary to know)\n",
        "# missing_values - This tells the function what to view as missing values, and in almost all cases this should be set to np.nan\n",
        "\n",
        "# max_iter - Under the surface, the imputer creates predictions for each missing value and then iteratively improves on these\n",
        "# predictions, if you want your predictions to be more accurate then setting a higher max_iter may help, although remember that\n",
        "# it has diminishing returns, so max_iter=100 won't be much better than max_iter=10 compared to max_iter=10 vs. max_iter=1\n",
        "\n",
        "# verbose - When you actually use the IterativeImputer to impute, you'll notice that a lot text comes up, if you'd like to get rid of this then simply set verbose=0\n",
        "\n",
        "# imputation_order - Tells function what order of columns to impute in, so by default it will go from the column with the least\n",
        "# amount of missing values up to the one with the most missing values, 'roman' has the imputation go from left to right\n",
        "\n",
        "# random_state - This imputer features a bit of randomness by default, so if you run it multiple times with the exact same data and settings, you'll get different imputations. We can fix the behavior by setting the random_state equal to an integer, the specific value doesn't matter, they just represent different random states."
      ],
      "metadata": {
        "id": "Wy9aQKQLNoIE"
      },
      "execution_count": 13,
      "outputs": []
    },
    {
      "cell_type": "code",
      "source": [
        "# We can only use numerical columns to use for iterative imputation\n",
        "data_num = data.iloc[:, 3:]\n",
        "imp_full_menu_num = pd.DataFrame(iter_imputer.fit_transform(data_num))\n",
        "data.iloc[:, 3:] = imp_full_menu_num\n",
        "data.isna().sum()"
      ],
      "metadata": {
        "colab": {
          "base_uri": "https://localhost:8080/"
        },
        "id": "_WfGlEpiOk9M",
        "outputId": "9630e827-cef6-4837-eafe-a826cc586ecb"
      },
      "execution_count": 14,
      "outputs": [
        {
          "output_type": "stream",
          "name": "stdout",
          "text": [
            "[IterativeImputer] Completing matrix with shape (242, 15)\n",
            "[IterativeImputer] Ending imputation round 1/10, elapsed time 0.07\n",
            "[IterativeImputer] Change: 45.209564114760504, scaled tolerance: 0.51 \n",
            "[IterativeImputer] Ending imputation round 2/10, elapsed time 0.10\n",
            "[IterativeImputer] Change: 0.0, scaled tolerance: 0.51 \n",
            "[IterativeImputer] Early stopping criterion reached.\n"
          ]
        },
        {
          "output_type": "execute_result",
          "data": {
            "text/plain": [
              "Beverage_category      0\n",
              "Beverage               0\n",
              "Beverage_prep          0\n",
              "Calories               0\n",
              "Total Fat              0\n",
              "Trans Fat              0\n",
              "Saturated Fat          0\n",
              "Sodium                 0\n",
              "Total Carbohydrates    0\n",
              "Cholesterol            0\n",
              "Dietary Fibre          0\n",
              "Sugars                 0\n",
              "Protein                0\n",
              "Vitamin A (% DV)       0\n",
              "Vitamin C (% DV)       0\n",
              "Calcium (% DV)         0\n",
              "Iron (% DV)            0\n",
              "Caffeine               0\n",
              "dtype: int64"
            ]
          },
          "metadata": {},
          "execution_count": 14
        }
      ]
    },
    {
      "cell_type": "markdown",
      "source": [
        "Now there are no any columns present in the data with missing values. below are the examples of imputed values."
      ],
      "metadata": {
        "id": "Fsnwy3aubX5i"
      }
    },
    {
      "cell_type": "code",
      "source": [
        "data.loc[100:130, 'Caffeine'] # Example of imputed values"
      ],
      "metadata": {
        "colab": {
          "base_uri": "https://localhost:8080/"
        },
        "id": "0IYDoG9sO4ud",
        "outputId": "9c7c3e14-2d4c-43fd-cca3-4ef2c15f4e86"
      },
      "execution_count": 15,
      "outputs": [
        {
          "output_type": "execute_result",
          "data": {
            "text/plain": [
              "100      0.000000\n",
              "101      0.000000\n",
              "102     91.112682\n",
              "103     91.112682\n",
              "104     91.112682\n",
              "105     91.112682\n",
              "106     50.000000\n",
              "107     50.000000\n",
              "108     50.000000\n",
              "109     70.000000\n",
              "110     70.000000\n",
              "111     70.000000\n",
              "112     95.000000\n",
              "113     95.000000\n",
              "114     95.000000\n",
              "115    120.000000\n",
              "116    120.000000\n",
              "117    120.000000\n",
              "118     25.000000\n",
              "119     25.000000\n",
              "120     25.000000\n",
              "121     55.000000\n",
              "122     55.000000\n",
              "123     55.000000\n",
              "124     80.000000\n",
              "125     80.000000\n",
              "126     80.000000\n",
              "127    110.000000\n",
              "128    110.000000\n",
              "129    110.000000\n",
              "130     86.251884\n",
              "Name: Caffeine, dtype: float64"
            ]
          },
          "metadata": {},
          "execution_count": 15
        }
      ]
    },
    {
      "cell_type": "markdown",
      "source": [
        "## Exploratory Data Analysis"
      ],
      "metadata": {
        "id": "mKcbMb0_PBSa"
      }
    },
    {
      "cell_type": "code",
      "source": [
        "#describing the data\n",
        "data.describe()"
      ],
      "metadata": {
        "colab": {
          "base_uri": "https://localhost:8080/",
          "height": 381
        },
        "id": "YJPWoGQ_PKAV",
        "outputId": "28215ce3-c6f8-414c-e704-bfc855a14bfd"
      },
      "execution_count": 16,
      "outputs": [
        {
          "output_type": "execute_result",
          "data": {
            "text/plain": [
              "         Calories   Total Fat   Trans Fat  Saturated Fat      Sodium  \\\n",
              "count  242.000000  242.000000  242.000000     242.000000  242.000000   \n",
              "mean   193.871901    2.904959    1.307025       0.037603    6.363636   \n",
              "std    102.863303    2.944376    1.640259       0.071377    8.630257   \n",
              "min      0.000000    0.000000    0.000000       0.000000    0.000000   \n",
              "25%    120.000000    0.200000    0.100000       0.000000    0.000000   \n",
              "50%    185.000000    2.500000    0.500000       0.000000    5.000000   \n",
              "75%    260.000000    4.500000    2.000000       0.100000   10.000000   \n",
              "max    510.000000   15.000000    9.000000       0.300000   40.000000   \n",
              "\n",
              "       Total Carbohydrates  Cholesterol  Dietary Fibre      Sugars  \\\n",
              "count           242.000000   242.000000     242.000000  242.000000   \n",
              "mean            128.884298    35.991736       0.805785   32.962810   \n",
              "std              82.303223    20.795186       1.445944   19.730199   \n",
              "min               0.000000     0.000000       0.000000    0.000000   \n",
              "25%              70.000000    21.000000       0.000000   18.000000   \n",
              "50%             125.000000    34.000000       0.000000   32.000000   \n",
              "75%             170.000000    50.750000       1.000000   43.750000   \n",
              "max             340.000000    90.000000       8.000000   84.000000   \n",
              "\n",
              "          Protein  Vitamin A (% DV)  Vitamin C (% DV)  Calcium (% DV)  \\\n",
              "count  242.000000        242.000000        242.000000      242.000000   \n",
              "mean     6.978512          0.308058          0.069215        0.244008   \n",
              "std      4.871659          0.247576          0.168815        0.182693   \n",
              "min      0.000000          0.000000          0.000000        0.000000   \n",
              "25%      3.000000          0.100000          0.000000        0.100000   \n",
              "50%      6.000000          0.200000          0.000000        0.200000   \n",
              "75%     10.000000          0.500000          0.000000        0.350000   \n",
              "max     20.000000          0.800000          0.800000        0.800000   \n",
              "\n",
              "       Iron (% DV)    Caffeine  \n",
              "count   242.000000  242.000000  \n",
              "mean      0.186777   88.661714  \n",
              "std       0.237271   61.724022  \n",
              "min       0.000000    0.000000  \n",
              "25%       0.000000   60.030934  \n",
              "50%       0.100000   81.031225  \n",
              "75%       0.250000  130.000000  \n",
              "max       0.800000  410.000000  "
            ],
            "text/html": [
              "\n",
              "  <div id=\"df-c4a6a2d3-de7c-44de-800d-1f3236f12885\">\n",
              "    <div class=\"colab-df-container\">\n",
              "      <div>\n",
              "<style scoped>\n",
              "    .dataframe tbody tr th:only-of-type {\n",
              "        vertical-align: middle;\n",
              "    }\n",
              "\n",
              "    .dataframe tbody tr th {\n",
              "        vertical-align: top;\n",
              "    }\n",
              "\n",
              "    .dataframe thead th {\n",
              "        text-align: right;\n",
              "    }\n",
              "</style>\n",
              "<table border=\"1\" class=\"dataframe\">\n",
              "  <thead>\n",
              "    <tr style=\"text-align: right;\">\n",
              "      <th></th>\n",
              "      <th>Calories</th>\n",
              "      <th>Total Fat</th>\n",
              "      <th>Trans Fat</th>\n",
              "      <th>Saturated Fat</th>\n",
              "      <th>Sodium</th>\n",
              "      <th>Total Carbohydrates</th>\n",
              "      <th>Cholesterol</th>\n",
              "      <th>Dietary Fibre</th>\n",
              "      <th>Sugars</th>\n",
              "      <th>Protein</th>\n",
              "      <th>Vitamin A (% DV)</th>\n",
              "      <th>Vitamin C (% DV)</th>\n",
              "      <th>Calcium (% DV)</th>\n",
              "      <th>Iron (% DV)</th>\n",
              "      <th>Caffeine</th>\n",
              "    </tr>\n",
              "  </thead>\n",
              "  <tbody>\n",
              "    <tr>\n",
              "      <th>count</th>\n",
              "      <td>242.000000</td>\n",
              "      <td>242.000000</td>\n",
              "      <td>242.000000</td>\n",
              "      <td>242.000000</td>\n",
              "      <td>242.000000</td>\n",
              "      <td>242.000000</td>\n",
              "      <td>242.000000</td>\n",
              "      <td>242.000000</td>\n",
              "      <td>242.000000</td>\n",
              "      <td>242.000000</td>\n",
              "      <td>242.000000</td>\n",
              "      <td>242.000000</td>\n",
              "      <td>242.000000</td>\n",
              "      <td>242.000000</td>\n",
              "      <td>242.000000</td>\n",
              "    </tr>\n",
              "    <tr>\n",
              "      <th>mean</th>\n",
              "      <td>193.871901</td>\n",
              "      <td>2.904959</td>\n",
              "      <td>1.307025</td>\n",
              "      <td>0.037603</td>\n",
              "      <td>6.363636</td>\n",
              "      <td>128.884298</td>\n",
              "      <td>35.991736</td>\n",
              "      <td>0.805785</td>\n",
              "      <td>32.962810</td>\n",
              "      <td>6.978512</td>\n",
              "      <td>0.308058</td>\n",
              "      <td>0.069215</td>\n",
              "      <td>0.244008</td>\n",
              "      <td>0.186777</td>\n",
              "      <td>88.661714</td>\n",
              "    </tr>\n",
              "    <tr>\n",
              "      <th>std</th>\n",
              "      <td>102.863303</td>\n",
              "      <td>2.944376</td>\n",
              "      <td>1.640259</td>\n",
              "      <td>0.071377</td>\n",
              "      <td>8.630257</td>\n",
              "      <td>82.303223</td>\n",
              "      <td>20.795186</td>\n",
              "      <td>1.445944</td>\n",
              "      <td>19.730199</td>\n",
              "      <td>4.871659</td>\n",
              "      <td>0.247576</td>\n",
              "      <td>0.168815</td>\n",
              "      <td>0.182693</td>\n",
              "      <td>0.237271</td>\n",
              "      <td>61.724022</td>\n",
              "    </tr>\n",
              "    <tr>\n",
              "      <th>min</th>\n",
              "      <td>0.000000</td>\n",
              "      <td>0.000000</td>\n",
              "      <td>0.000000</td>\n",
              "      <td>0.000000</td>\n",
              "      <td>0.000000</td>\n",
              "      <td>0.000000</td>\n",
              "      <td>0.000000</td>\n",
              "      <td>0.000000</td>\n",
              "      <td>0.000000</td>\n",
              "      <td>0.000000</td>\n",
              "      <td>0.000000</td>\n",
              "      <td>0.000000</td>\n",
              "      <td>0.000000</td>\n",
              "      <td>0.000000</td>\n",
              "      <td>0.000000</td>\n",
              "    </tr>\n",
              "    <tr>\n",
              "      <th>25%</th>\n",
              "      <td>120.000000</td>\n",
              "      <td>0.200000</td>\n",
              "      <td>0.100000</td>\n",
              "      <td>0.000000</td>\n",
              "      <td>0.000000</td>\n",
              "      <td>70.000000</td>\n",
              "      <td>21.000000</td>\n",
              "      <td>0.000000</td>\n",
              "      <td>18.000000</td>\n",
              "      <td>3.000000</td>\n",
              "      <td>0.100000</td>\n",
              "      <td>0.000000</td>\n",
              "      <td>0.100000</td>\n",
              "      <td>0.000000</td>\n",
              "      <td>60.030934</td>\n",
              "    </tr>\n",
              "    <tr>\n",
              "      <th>50%</th>\n",
              "      <td>185.000000</td>\n",
              "      <td>2.500000</td>\n",
              "      <td>0.500000</td>\n",
              "      <td>0.000000</td>\n",
              "      <td>5.000000</td>\n",
              "      <td>125.000000</td>\n",
              "      <td>34.000000</td>\n",
              "      <td>0.000000</td>\n",
              "      <td>32.000000</td>\n",
              "      <td>6.000000</td>\n",
              "      <td>0.200000</td>\n",
              "      <td>0.000000</td>\n",
              "      <td>0.200000</td>\n",
              "      <td>0.100000</td>\n",
              "      <td>81.031225</td>\n",
              "    </tr>\n",
              "    <tr>\n",
              "      <th>75%</th>\n",
              "      <td>260.000000</td>\n",
              "      <td>4.500000</td>\n",
              "      <td>2.000000</td>\n",
              "      <td>0.100000</td>\n",
              "      <td>10.000000</td>\n",
              "      <td>170.000000</td>\n",
              "      <td>50.750000</td>\n",
              "      <td>1.000000</td>\n",
              "      <td>43.750000</td>\n",
              "      <td>10.000000</td>\n",
              "      <td>0.500000</td>\n",
              "      <td>0.000000</td>\n",
              "      <td>0.350000</td>\n",
              "      <td>0.250000</td>\n",
              "      <td>130.000000</td>\n",
              "    </tr>\n",
              "    <tr>\n",
              "      <th>max</th>\n",
              "      <td>510.000000</td>\n",
              "      <td>15.000000</td>\n",
              "      <td>9.000000</td>\n",
              "      <td>0.300000</td>\n",
              "      <td>40.000000</td>\n",
              "      <td>340.000000</td>\n",
              "      <td>90.000000</td>\n",
              "      <td>8.000000</td>\n",
              "      <td>84.000000</td>\n",
              "      <td>20.000000</td>\n",
              "      <td>0.800000</td>\n",
              "      <td>0.800000</td>\n",
              "      <td>0.800000</td>\n",
              "      <td>0.800000</td>\n",
              "      <td>410.000000</td>\n",
              "    </tr>\n",
              "  </tbody>\n",
              "</table>\n",
              "</div>\n",
              "      <button class=\"colab-df-convert\" onclick=\"convertToInteractive('df-c4a6a2d3-de7c-44de-800d-1f3236f12885')\"\n",
              "              title=\"Convert this dataframe to an interactive table.\"\n",
              "              style=\"display:none;\">\n",
              "        \n",
              "  <svg xmlns=\"http://www.w3.org/2000/svg\" height=\"24px\"viewBox=\"0 0 24 24\"\n",
              "       width=\"24px\">\n",
              "    <path d=\"M0 0h24v24H0V0z\" fill=\"none\"/>\n",
              "    <path d=\"M18.56 5.44l.94 2.06.94-2.06 2.06-.94-2.06-.94-.94-2.06-.94 2.06-2.06.94zm-11 1L8.5 8.5l.94-2.06 2.06-.94-2.06-.94L8.5 2.5l-.94 2.06-2.06.94zm10 10l.94 2.06.94-2.06 2.06-.94-2.06-.94-.94-2.06-.94 2.06-2.06.94z\"/><path d=\"M17.41 7.96l-1.37-1.37c-.4-.4-.92-.59-1.43-.59-.52 0-1.04.2-1.43.59L10.3 9.45l-7.72 7.72c-.78.78-.78 2.05 0 2.83L4 21.41c.39.39.9.59 1.41.59.51 0 1.02-.2 1.41-.59l7.78-7.78 2.81-2.81c.8-.78.8-2.07 0-2.86zM5.41 20L4 18.59l7.72-7.72 1.47 1.35L5.41 20z\"/>\n",
              "  </svg>\n",
              "      </button>\n",
              "      \n",
              "  <style>\n",
              "    .colab-df-container {\n",
              "      display:flex;\n",
              "      flex-wrap:wrap;\n",
              "      gap: 12px;\n",
              "    }\n",
              "\n",
              "    .colab-df-convert {\n",
              "      background-color: #E8F0FE;\n",
              "      border: none;\n",
              "      border-radius: 50%;\n",
              "      cursor: pointer;\n",
              "      display: none;\n",
              "      fill: #1967D2;\n",
              "      height: 32px;\n",
              "      padding: 0 0 0 0;\n",
              "      width: 32px;\n",
              "    }\n",
              "\n",
              "    .colab-df-convert:hover {\n",
              "      background-color: #E2EBFA;\n",
              "      box-shadow: 0px 1px 2px rgba(60, 64, 67, 0.3), 0px 1px 3px 1px rgba(60, 64, 67, 0.15);\n",
              "      fill: #174EA6;\n",
              "    }\n",
              "\n",
              "    [theme=dark] .colab-df-convert {\n",
              "      background-color: #3B4455;\n",
              "      fill: #D2E3FC;\n",
              "    }\n",
              "\n",
              "    [theme=dark] .colab-df-convert:hover {\n",
              "      background-color: #434B5C;\n",
              "      box-shadow: 0px 1px 3px 1px rgba(0, 0, 0, 0.15);\n",
              "      filter: drop-shadow(0px 1px 2px rgba(0, 0, 0, 0.3));\n",
              "      fill: #FFFFFF;\n",
              "    }\n",
              "  </style>\n",
              "\n",
              "      <script>\n",
              "        const buttonEl =\n",
              "          document.querySelector('#df-c4a6a2d3-de7c-44de-800d-1f3236f12885 button.colab-df-convert');\n",
              "        buttonEl.style.display =\n",
              "          google.colab.kernel.accessAllowed ? 'block' : 'none';\n",
              "\n",
              "        async function convertToInteractive(key) {\n",
              "          const element = document.querySelector('#df-c4a6a2d3-de7c-44de-800d-1f3236f12885');\n",
              "          const dataTable =\n",
              "            await google.colab.kernel.invokeFunction('convertToInteractive',\n",
              "                                                     [key], {});\n",
              "          if (!dataTable) return;\n",
              "\n",
              "          const docLinkHtml = 'Like what you see? Visit the ' +\n",
              "            '<a target=\"_blank\" href=https://colab.research.google.com/notebooks/data_table.ipynb>data table notebook</a>'\n",
              "            + ' to learn more about interactive tables.';\n",
              "          element.innerHTML = '';\n",
              "          dataTable['output_type'] = 'display_data';\n",
              "          await google.colab.output.renderOutput(dataTable, element);\n",
              "          const docLink = document.createElement('div');\n",
              "          docLink.innerHTML = docLinkHtml;\n",
              "          element.appendChild(docLink);\n",
              "        }\n",
              "      </script>\n",
              "    </div>\n",
              "  </div>\n",
              "  "
            ]
          },
          "metadata": {},
          "execution_count": 16
        }
      ]
    },
    {
      "cell_type": "markdown",
      "source": [
        "### Description of the Starbucks Drinks Menu dataset\n",
        "The Starbucks Drinks Menu dataset contains information of various drinks available at Starbucks and their constituents which include Total Fat, Trans Fat, Saturated Fat, Sodium, Total Carbohydrates, Cholesterol, Dietary Fibre, Sugars, Protein, Vitamin A (% DV), Vitamin C (% DV), Calcium (% DV), Iron (% DV) and Caffeine. The dataset includes 242 observations and the following features:\n",
        "\n",
        "Beverage_category: categorical variable indicating the category of drinks at starbucks\n",
        "Beverage: categorical variable indicating the name of beverage\n",
        "Beverage_prep: categorical variable indicating the size of beverage size\n",
        "Calories: continuous variable indicating the calories of drink\n",
        "Total Fat: continuous variable indicating the Fat Content in the drink\n",
        "Trans Fat: continuous variable indicating the Trans Fat content in the drink\n",
        "Saturated Fat: continuous variable indicating the Saturated Fat content in the drink\n",
        "Sodium: continuous variable indicating the Sodium content in the drink\n",
        "Total Carbohydrates: continuous variable indicating the Total Carbohydrates content in the drink\n",
        "Cholesterol: continuous variable indicating the Cholestrol content in the drink\n",
        "Dietary Fibre: continuous variable indicating the Dietry fiber content in the drink\n",
        "Sugars: continuous variable indicating the Sugar  content in the drink\n",
        "Protein: continuous variable indicating the Protein content in the drink\n",
        "Vitamin A (% DV): continuous variable indicating the percentage of Vitamin A in the drink\n",
        "Vitamin C (% DV): continuous variable indicating the percentage of Vitamin C in the drink\n",
        "Calcium (% DV): continuous variable indicating the percentage of Calcium in the drink\n",
        "Iron (% DV): continuous variable indicating the percentage of Iron in the drink\n",
        "Caffeine: continuous variable indicating the Caffeine content in the drink"
      ],
      "metadata": {
        "id": "dfZcErfAeHOC"
      }
    },
    {
      "cell_type": "markdown",
      "source": [
        "## Visualizing the Distribution of Variables\n",
        "One of the most common steps in exploratory data analysis is looking at how each column is distributed. We can do this in a number of ways, and for this notebook we will construct a count plot and a histogram. We will use the packages matplotlib and Seaborn which are both commonly used tools to make plots in Python."
      ],
      "metadata": {
        "id": "o_nzBAQvT-8c"
      }
    },
    {
      "cell_type": "code",
      "source": [
        "#Distribution of calories column\n",
        "plt.figure(figsize=(7,5)) # Defines the height and width of the plot\n",
        "# Below defines the exact histogram we want to make\n",
        "# kde - Generates the smooth line you see overlayed on the plot\n",
        "# stat - By default the axis will be the count occurences, while \"probability\" turns it into a probability distribution\n",
        "sns.histplot(data=data, x='Calories', kde=True, stat='probability').set_title('Distribution of Calories')\n",
        "plt.show() # Tells Python to create the plot"
      ],
      "metadata": {
        "colab": {
          "base_uri": "https://localhost:8080/",
          "height": 350
        },
        "id": "2i-iMhhYUBFh",
        "outputId": "a9329540-123c-44ab-86ec-edd9fe7b52be"
      },
      "execution_count": 17,
      "outputs": [
        {
          "output_type": "display_data",
          "data": {
            "text/plain": [
              "<Figure size 504x360 with 1 Axes>"
            ],
            "image/png": "[encoded data removed]"
          },
          "metadata": {
            "needs_background": "light"
          }
        }
      ]
    },
    {
      "cell_type": "markdown",
      "source": [
        "Inference - \n",
        "From the above histogram, we can observe that the distribution of Calories is slightly **right-skewed**. The majority of the calories lie between 100 to 200."
      ],
      "metadata": {
        "id": "a4AecWPubu0N"
      }
    },
    {
      "cell_type": "code",
      "source": [
        "#Distribution of Beverage Category\n",
        "plt.figure(figsize=(7,4))\n",
        "sns.countplot(data=data, x='Beverage_category').set_title('Distribution of Beverage_category')\n",
        "plt.xticks(rotation=90) # Rotates x-axis labels 90 degrees\n",
        "plt.show()"
      ],
      "metadata": {
        "colab": {
          "base_uri": "https://localhost:8080/",
          "height": 464
        },
        "id": "ivyfdllzUa3b",
        "outputId": "9132f9e4-9c97-4b74-a193-eea2dd5286ce"
      },
      "execution_count": 18,
      "outputs": [
        {
          "output_type": "display_data",
          "data": {
            "text/plain": [
              "<Figure size 504x288 with 1 Axes>"
            ],
            "image/png": "[encoded data removed]"
          },
          "metadata": {
            "needs_background": "light"
          }
        }
      ]
    },
    {
      "cell_type": "markdown",
      "source": [
        "Inference - From the above Bar Graph, we can observe that the maximum number of beverages are Classic Espresso Drinks and the least number of beverages are Coffee."
      ],
      "metadata": {
        "id": "n90GjqZEbyE3"
      }
    },
    {
      "cell_type": "markdown",
      "source": [
        "In our dataset, we have 3 categorical columns."
      ],
      "metadata": {
        "id": "KAyaQEKPjnta"
      }
    },
    {
      "cell_type": "code",
      "source": [
        "data.iloc[:, 0:3].columns # Categorical columns"
      ],
      "metadata": {
        "colab": {
          "base_uri": "https://localhost:8080/"
        },
        "id": "qPaCZge3UkTp",
        "outputId": "6be3f103-2dca-49ce-d8ae-38170de9399c"
      },
      "execution_count": 19,
      "outputs": [
        {
          "output_type": "execute_result",
          "data": {
            "text/plain": [
              "Index(['Beverage_category', 'Beverage', 'Beverage_prep'], dtype='object')"
            ]
          },
          "metadata": {},
          "execution_count": 19
        }
      ]
    },
    {
      "cell_type": "code",
      "source": [
        "# Plotting graphs\n",
        "plt.figure(figsize=(18,4))\n",
        "\n",
        "# Distribution of Beverage Category\n",
        "plt.subplot(1, 3, 1)\n",
        "sns.countplot(data=data, x='Beverage_category').set_title('Distribution of Beverage_category')\n",
        "plt.xticks(rotation=90)\n",
        "\n",
        "# Distribution of Beverage\n",
        "plt.subplot(1, 3, 2) \n",
        "sns.countplot(data=data, x='Beverage').set_title('Distribution of Beverage') # Create countplot and set title\n",
        "plt.xticks(rotation=90) # Rotate the x-axis labels 90 degrees\n",
        "\n",
        "# Create next plot below\n",
        "plt.subplot(1, 3, 3) \n",
        "sns.countplot(data=data, x='Beverage_prep').set_title('Distribution of Beverage_prep') \n",
        "plt.xticks(rotation=90) \n",
        "\n",
        "plt.show() "
      ],
      "metadata": {
        "colab": {
          "base_uri": "https://localhost:8080/",
          "height": 559
        },
        "id": "3yN1nf5DWTMN",
        "outputId": "dc77a7b1-f24d-40ad-8a24-b7f78ba473a4"
      },
      "execution_count": 21,
      "outputs": [
        {
          "output_type": "display_data",
          "data": {
            "text/plain": [
              "<Figure size 1296x288 with 3 Axes>"
            ],
            "image/png": "[encoded data removed]"
          },
          "metadata": {
            "needs_background": "light"
          }
        }
      ]
    },
    {
      "cell_type": "markdown",
      "source": [
        "Inference - From the first Bar Graph, we can observe that the maximum number of beverages are Classic Espresso Drinks and the least number of beverages are Coffee. From the second graph, we get a distribution of beverages where Espresso has the least count. And from the third graph, we can observe that soymilk has the maximum count whereas Solo and Doppio has the least count."
      ],
      "metadata": {
        "id": "puURJO3hjtKv"
      }
    },
    {
      "cell_type": "code",
      "source": [
        "for col in data.iloc[:, 3:].columns:\n",
        "    plt.figure(figsize=(6, 3)) # Set size of histograms\n",
        "    sns.histplot(data=data, x=col, kde=True, stat='probability').set_title('Distribution of ' + col) # Create histogram\n",
        "    plt.show()"
      ],
      "metadata": {
        "colab": {
          "base_uri": "https://localhost:8080/",
          "height": 1000
        },
        "id": "C20s2xMAXKTi",
        "outputId": "17458579-8eb3-4163-b4e9-ba20f2408e22"
      },
      "execution_count": 22,
      "outputs": [
        {
          "output_type": "display_data",
          "data": {
            "text/plain": [
              "<Figure size 432x216 with 1 Axes>"
            ],
            "image/png": "[encoded data removed]"
          },
          "metadata": {
            "needs_background": "light"
          }
        },
        {
          "output_type": "display_data",
          "data": {
            "text/plain": [
              "<Figure size 432x216 with 1 Axes>"
            ],
            "image/png": "[encoded data removed]"
          },
          "metadata": {
            "needs_background": "light"
          }
        },
        {
          "output_type": "display_data",
          "data": {
            "text/plain": [
              "<Figure size 432x216 with 1 Axes>"
            ],
            "image/png": "[encoded data removed]"
          },
          "metadata": {
            "needs_background": "light"
          }
        },
        {
          "output_type": "display_data",
          "data": {
            "text/plain": [
              "<Figure size 432x216 with 1 Axes>"
            ],
            "image/png": "[encoded data removed]"
          },
          "metadata": {
            "needs_background": "light"
          }
        },
        {
          "output_type": "display_data",
          "data": {
            "text/plain": [
              "<Figure size 432x216 with 1 Axes>"
            ],
            "image/png": "[encoded data removed]"
          },
          "metadata": {
            "needs_background": "light"
          }
        },
        {
          "output_type": "display_data",
          "data": {
            "text/plain": [
              "<Figure size 432x216 with 1 Axes>"
            ],
            "image/png": "[encoded data removed]"
          },
          "metadata": {
            "needs_background": "light"
          }
        },
        {
          "output_type": "display_data",
          "data": {
            "text/plain": [
              "<Figure size 432x216 with 1 Axes>"
            ],
            "image/png": "[encoded data removed]"
          },
          "metadata": {
            "needs_background": "light"
          }
        },
        {
          "output_type": "display_data",
          "data": {
            "text/plain": [
              "<Figure size 432x216 with 1 Axes>"
            ],
            "image/png": "[encoded data removed]"
          },
          "metadata": {
            "needs_background": "light"
          }
        },
        {
          "output_type": "display_data",
          "data": {
            "text/plain": [
              "<Figure size 432x216 with 1 Axes>"
            ],
            "image/png": "[encoded data removed]"
          },
          "metadata": {
            "needs_background": "light"
          }
        },
        {
          "output_type": "display_data",
          "data": {
            "text/plain": [
              "<Figure size 432x216 with 1 Axes>"
            ],
            "image/png": "[encoded data removed]"
          },
          "metadata": {
            "needs_background": "light"
          }
        },
        {
          "output_type": "display_data",
          "data": {
            "text/plain": [
              "<Figure size 432x216 with 1 Axes>"
            ],
            "image/png": "[encoded data removed]"
          },
          "metadata": {
            "needs_background": "light"
          }
        },
        {
          "output_type": "display_data",
          "data": {
            "text/plain": [
              "<Figure size 432x216 with 1 Axes>"
            ],
            "image/png": "[encoded data removed]"
          },
          "metadata": {
            "needs_background": "light"
          }
        },
        {
          "output_type": "display_data",
          "data": {
            "text/plain": [
              "<Figure size 432x216 with 1 Axes>"
            ],
            "image/png": "[encoded data removed]"
          },
          "metadata": {
            "needs_background": "light"
          }
        },
        {
          "output_type": "display_data",
          "data": {
            "text/plain": [
              "<Figure size 432x216 with 1 Axes>"
            ],
            "image/png": "[encoded data removed]"
          },
          "metadata": {
            "needs_background": "light"
          }
        },
        {
          "output_type": "display_data",
          "data": {
            "text/plain": [
              "<Figure size 432x216 with 1 Axes>"
            ],
            "image/png": "[encoded data removed]"
          },
          "metadata": {
            "needs_background": "light"
          }
        }
      ]
    },
    {
      "cell_type": "markdown",
      "source": [
        "Inference - From the output, we can see that Distribution of caffeine, Distribution of Iron %, Distribution of Vitamin C %, Distribution of Protein, Distribution of Sugars, Distribution of Dietry Fibre, Distribution of Cholesterol, Distribution of Sodium, Distribution of Trans Fat, Distribution of Total fat and Distribution of Calories are skewed to the right, meaning that there are a few data points with very high values, while the majority of the data points have lower values. "
      ],
      "metadata": {
        "id": "3rOK6OGfkxaH"
      }
    },
    {
      "cell_type": "markdown",
      "source": [
        "### Correlation Plot\n",
        "We would also like to see how the different variables in our datasets are related to each other, and one common way to visualize these relationship is with a correlation plot. "
      ],
      "metadata": {
        "id": "McexeEUHXhCK"
      }
    },
    {
      "cell_type": "code",
      "source": [
        "# Visualizing Correlation matrix\n",
        "plt.figure(figsize=(15, 7))\n",
        "corrplot = sns.heatmap(data.corr(), vmin=-1, vmax=1, annot=True, cmap='Spectral').set_title(\"Correlation Plot\")\n",
        "plt.show()"
      ],
      "metadata": {
        "colab": {
          "base_uri": "https://localhost:8080/",
          "height": 534
        },
        "id": "RqWYAPBKXaWM",
        "outputId": "3a9415de-7c77-4d20-f393-817776a912eb"
      },
      "execution_count": 23,
      "outputs": [
        {
          "output_type": "display_data",
          "data": {
            "text/plain": [
              "<Figure size 1080x504 with 2 Axes>"
            ],
            "image/png": "[encoded data removed]"
          },
          "metadata": {
            "needs_background": "light"
          }
        }
      ]
    },
    {
      "cell_type": "markdown",
      "source": [
        "## Train-Test Splitting Data"
      ],
      "metadata": {
        "id": "fNoI2SlQYatO"
      }
    },
    {
      "cell_type": "code",
      "source": [
        "# X is what we are using for prediction, and y is what is being predicted\n",
        "# We are trying to predict calories, so that'll be our y\n",
        "X = data.loc[:, data.columns!='Calories'] # All columns except Calories\n",
        "y = data.loc[:, 'Calories']\n",
        "X_train, X_test, y_train, y_test = train_test_split(X, y, test_size=0.25, random_state=24) # We'll have a test size of 25% of the data"
      ],
      "metadata": {
        "id": "DC6rmufZX85y"
      },
      "execution_count": 25,
      "outputs": []
    },
    {
      "cell_type": "code",
      "source": [
        "categorical_columns_1 = X_train.select_dtypes(include='object').columns # finding categorical columns\n",
        "print(data[categorical_columns_1].nunique())"
      ],
      "metadata": {
        "colab": {
          "base_uri": "https://localhost:8080/"
        },
        "id": "SMKPFiMzgoyF",
        "outputId": "97853197-d1c9-49d7-ed8b-74a23d93f69e"
      },
      "execution_count": 26,
      "outputs": [
        {
          "output_type": "stream",
          "name": "stdout",
          "text": [
            "Beverage_category     9\n",
            "Beverage             33\n",
            "Beverage_prep        13\n",
            "dtype: int64\n"
          ]
        }
      ]
    },
    {
      "cell_type": "markdown",
      "source": [
        "Looking at the counts of values in categorical columns, there are 55 unique values. If we one hot encode these values we will get 55 new columns which is more than the size of original data and this can cause issues with model output accuracy. Hence, we are only one hot encoding the Beverage_category column."
      ],
      "metadata": {
        "id": "yTMhbT7QhV_h"
      }
    },
    {
      "cell_type": "code",
      "source": [
        "# One hot encoding the Beverage Category column\n",
        "X_train_pro = pd.get_dummies(X_train, columns=['Beverage_category'])\n",
        "X_test_pro = pd.get_dummies(X_test, columns=['Beverage_category'])"
      ],
      "metadata": {
        "id": "Vx8a1RdIh6-r"
      },
      "execution_count": 27,
      "outputs": []
    },
    {
      "cell_type": "code",
      "source": [
        "# A look at what is actually occuring to the data from one-hot encoding\n",
        "data = pd.get_dummies(data, columns=['Beverage_category'])\n",
        "data.head()"
      ],
      "metadata": {
        "colab": {
          "base_uri": "https://localhost:8080/",
          "height": 403
        },
        "id": "f4OCASK7iK-a",
        "outputId": "822df6d6-8f65-4125-bd8e-e5f9e0a35f8e"
      },
      "execution_count": 28,
      "outputs": [
        {
          "output_type": "execute_result",
          "data": {
            "text/plain": [
              "        Beverage      Beverage_prep  Calories  Total Fat  Trans Fat  \\\n",
              "0  Brewed Coffee              Short       3.0        0.1        0.0   \n",
              "1  Brewed Coffee               Tall       4.0        0.1        0.0   \n",
              "2  Brewed Coffee             Grande       5.0        0.1        0.0   \n",
              "3  Brewed Coffee              Venti       5.0        0.1        0.0   \n",
              "4    Caffè Latte  Short Nonfat Milk      70.0        0.1        0.1   \n",
              "\n",
              "   Saturated Fat  Sodium  Total Carbohydrates  Cholesterol  Dietary Fibre  \\\n",
              "0            0.0     0.0                  5.0          0.0            0.0   \n",
              "1            0.0     0.0                 10.0          0.0            0.0   \n",
              "2            0.0     0.0                 10.0          0.0            0.0   \n",
              "3            0.0     0.0                 10.0          0.0            0.0   \n",
              "4            0.0     5.0                 75.0         10.0            0.0   \n",
              "\n",
              "   ...  Caffeine  Beverage_category_Classic Espresso Drinks  \\\n",
              "0  ...     175.0                                          0   \n",
              "1  ...     260.0                                          0   \n",
              "2  ...     330.0                                          0   \n",
              "3  ...     410.0                                          0   \n",
              "4  ...      75.0                                          1   \n",
              "\n",
              "   Beverage_category_Coffee  Beverage_category_Frappuccino® Blended Coffee  \\\n",
              "0                         1                                              0   \n",
              "1                         1                                              0   \n",
              "2                         1                                              0   \n",
              "3                         1                                              0   \n",
              "4                         0                                              0   \n",
              "\n",
              "   Beverage_category_Frappuccino® Blended Crème  \\\n",
              "0                                             0   \n",
              "1                                             0   \n",
              "2                                             0   \n",
              "3                                             0   \n",
              "4                                             0   \n",
              "\n",
              "   Beverage_category_Frappuccino® Light Blended Coffee  \\\n",
              "0                                                  0     \n",
              "1                                                  0     \n",
              "2                                                  0     \n",
              "3                                                  0     \n",
              "4                                                  0     \n",
              "\n",
              "   Beverage_category_Shaken Iced Beverages  \\\n",
              "0                                        0   \n",
              "1                                        0   \n",
              "2                                        0   \n",
              "3                                        0   \n",
              "4                                        0   \n",
              "\n",
              "   Beverage_category_Signature Espresso Drinks  Beverage_category_Smoothies  \\\n",
              "0                                            0                            0   \n",
              "1                                            0                            0   \n",
              "2                                            0                            0   \n",
              "3                                            0                            0   \n",
              "4                                            0                            0   \n",
              "\n",
              "   Beverage_category_Tazo® Tea Drinks  \n",
              "0                                   0  \n",
              "1                                   0  \n",
              "2                                   0  \n",
              "3                                   0  \n",
              "4                                   0  \n",
              "\n",
              "[5 rows x 26 columns]"
            ],
            "text/html": [
              "\n",
              "  <div id=\"df-1ac97075-0390-4603-a2b3-5d2609f6f105\">\n",
              "    <div class=\"colab-df-container\">\n",
              "      <div>\n",
              "<style scoped>\n",
              "    .dataframe tbody tr th:only-of-type {\n",
              "        vertical-align: middle;\n",
              "    }\n",
              "\n",
              "    .dataframe tbody tr th {\n",
              "        vertical-align: top;\n",
              "    }\n",
              "\n",
              "    .dataframe thead th {\n",
              "        text-align: right;\n",
              "    }\n",
              "</style>\n",
              "<table border=\"1\" class=\"dataframe\">\n",
              "  <thead>\n",
              "    <tr style=\"text-align: right;\">\n",
              "      <th></th>\n",
              "      <th>Beverage</th>\n",
              "      <th>Beverage_prep</th>\n",
              "      <th>Calories</th>\n",
              "      <th>Total Fat</th>\n",
              "      <th>Trans Fat</th>\n",
              "      <th>Saturated Fat</th>\n",
              "      <th>Sodium</th>\n",
              "      <th>Total Carbohydrates</th>\n",
              "      <th>Cholesterol</th>\n",
              "      <th>Dietary Fibre</th>\n",
              "      <th>...</th>\n",
              "      <th>Caffeine</th>\n",
              "      <th>Beverage_category_Classic Espresso Drinks</th>\n",
              "      <th>Beverage_category_Coffee</th>\n",
              "      <th>Beverage_category_Frappuccino® Blended Coffee</th>\n",
              "      <th>Beverage_category_Frappuccino® Blended Crème</th>\n",
              "      <th>Beverage_category_Frappuccino® Light Blended Coffee</th>\n",
              "      <th>Beverage_category_Shaken Iced Beverages</th>\n",
              "      <th>Beverage_category_Signature Espresso Drinks</th>\n",
              "      <th>Beverage_category_Smoothies</th>\n",
              "      <th>Beverage_category_Tazo® Tea Drinks</th>\n",
              "    </tr>\n",
              "  </thead>\n",
              "  <tbody>\n",
              "    <tr>\n",
              "      <th>0</th>\n",
              "      <td>Brewed Coffee</td>\n",
              "      <td>Short</td>\n",
              "      <td>3.0</td>\n",
              "      <td>0.1</td>\n",
              "      <td>0.0</td>\n",
              "      <td>0.0</td>\n",
              "      <td>0.0</td>\n",
              "      <td>5.0</td>\n",
              "      <td>0.0</td>\n",
              "      <td>0.0</td>\n",
              "      <td>...</td>\n",
              "      <td>175.0</td>\n",
              "      <td>0</td>\n",
              "      <td>1</td>\n",
              "      <td>0</td>\n",
              "      <td>0</td>\n",
              "      <td>0</td>\n",
              "      <td>0</td>\n",
              "      <td>0</td>\n",
              "      <td>0</td>\n",
              "      <td>0</td>\n",
              "    </tr>\n",
              "    <tr>\n",
              "      <th>1</th>\n",
              "      <td>Brewed Coffee</td>\n",
              "      <td>Tall</td>\n",
              "      <td>4.0</td>\n",
              "      <td>0.1</td>\n",
              "      <td>0.0</td>\n",
              "      <td>0.0</td>\n",
              "      <td>0.0</td>\n",
              "      <td>10.0</td>\n",
              "      <td>0.0</td>\n",
              "      <td>0.0</td>\n",
              "      <td>...</td>\n",
              "      <td>260.0</td>\n",
              "      <td>0</td>\n",
              "      <td>1</td>\n",
              "      <td>0</td>\n",
              "      <td>0</td>\n",
              "      <td>0</td>\n",
              "      <td>0</td>\n",
              "      <td>0</td>\n",
              "      <td>0</td>\n",
              "      <td>0</td>\n",
              "    </tr>\n",
              "    <tr>\n",
              "      <th>2</th>\n",
              "      <td>Brewed Coffee</td>\n",
              "      <td>Grande</td>\n",
              "      <td>5.0</td>\n",
              "      <td>0.1</td>\n",
              "      <td>0.0</td>\n",
              "      <td>0.0</td>\n",
              "      <td>0.0</td>\n",
              "      <td>10.0</td>\n",
              "      <td>0.0</td>\n",
              "      <td>0.0</td>\n",
              "      <td>...</td>\n",
              "      <td>330.0</td>\n",
              "      <td>0</td>\n",
              "      <td>1</td>\n",
              "      <td>0</td>\n",
              "      <td>0</td>\n",
              "      <td>0</td>\n",
              "      <td>0</td>\n",
              "      <td>0</td>\n",
              "      <td>0</td>\n",
              "      <td>0</td>\n",
              "    </tr>\n",
              "    <tr>\n",
              "      <th>3</th>\n",
              "      <td>Brewed Coffee</td>\n",
              "      <td>Venti</td>\n",
              "      <td>5.0</td>\n",
              "      <td>0.1</td>\n",
              "      <td>0.0</td>\n",
              "      <td>0.0</td>\n",
              "      <td>0.0</td>\n",
              "      <td>10.0</td>\n",
              "      <td>0.0</td>\n",
              "      <td>0.0</td>\n",
              "      <td>...</td>\n",
              "      <td>410.0</td>\n",
              "      <td>0</td>\n",
              "      <td>1</td>\n",
              "      <td>0</td>\n",
              "      <td>0</td>\n",
              "      <td>0</td>\n",
              "      <td>0</td>\n",
              "      <td>0</td>\n",
              "      <td>0</td>\n",
              "      <td>0</td>\n",
              "    </tr>\n",
              "    <tr>\n",
              "      <th>4</th>\n",
              "      <td>Caffè Latte</td>\n",
              "      <td>Short Nonfat Milk</td>\n",
              "      <td>70.0</td>\n",
              "      <td>0.1</td>\n",
              "      <td>0.1</td>\n",
              "      <td>0.0</td>\n",
              "      <td>5.0</td>\n",
              "      <td>75.0</td>\n",
              "      <td>10.0</td>\n",
              "      <td>0.0</td>\n",
              "      <td>...</td>\n",
              "      <td>75.0</td>\n",
              "      <td>1</td>\n",
              "      <td>0</td>\n",
              "      <td>0</td>\n",
              "      <td>0</td>\n",
              "      <td>0</td>\n",
              "      <td>0</td>\n",
              "      <td>0</td>\n",
              "      <td>0</td>\n",
              "      <td>0</td>\n",
              "    </tr>\n",
              "  </tbody>\n",
              "</table>\n",
              "<p>5 rows × 26 columns</p>\n",
              "</div>\n",
              "      <button class=\"colab-df-convert\" onclick=\"convertToInteractive('df-1ac97075-0390-4603-a2b3-5d2609f6f105')\"\n",
              "              title=\"Convert this dataframe to an interactive table.\"\n",
              "              style=\"display:none;\">\n",
              "        \n",
              "  <svg xmlns=\"http://www.w3.org/2000/svg\" height=\"24px\"viewBox=\"0 0 24 24\"\n",
              "       width=\"24px\">\n",
              "    <path d=\"M0 0h24v24H0V0z\" fill=\"none\"/>\n",
              "    <path d=\"M18.56 5.44l.94 2.06.94-2.06 2.06-.94-2.06-.94-.94-2.06-.94 2.06-2.06.94zm-11 1L8.5 8.5l.94-2.06 2.06-.94-2.06-.94L8.5 2.5l-.94 2.06-2.06.94zm10 10l.94 2.06.94-2.06 2.06-.94-2.06-.94-.94-2.06-.94 2.06-2.06.94z\"/><path d=\"M17.41 7.96l-1.37-1.37c-.4-.4-.92-.59-1.43-.59-.52 0-1.04.2-1.43.59L10.3 9.45l-7.72 7.72c-.78.78-.78 2.05 0 2.83L4 21.41c.39.39.9.59 1.41.59.51 0 1.02-.2 1.41-.59l7.78-7.78 2.81-2.81c.8-.78.8-2.07 0-2.86zM5.41 20L4 18.59l7.72-7.72 1.47 1.35L5.41 20z\"/>\n",
              "  </svg>\n",
              "      </button>\n",
              "      \n",
              "  <style>\n",
              "    .colab-df-container {\n",
              "      display:flex;\n",
              "      flex-wrap:wrap;\n",
              "      gap: 12px;\n",
              "    }\n",
              "\n",
              "    .colab-df-convert {\n",
              "      background-color: #E8F0FE;\n",
              "      border: none;\n",
              "      border-radius: 50%;\n",
              "      cursor: pointer;\n",
              "      display: none;\n",
              "      fill: #1967D2;\n",
              "      height: 32px;\n",
              "      padding: 0 0 0 0;\n",
              "      width: 32px;\n",
              "    }\n",
              "\n",
              "    .colab-df-convert:hover {\n",
              "      background-color: #E2EBFA;\n",
              "      box-shadow: 0px 1px 2px rgba(60, 64, 67, 0.3), 0px 1px 3px 1px rgba(60, 64, 67, 0.15);\n",
              "      fill: #174EA6;\n",
              "    }\n",
              "\n",
              "    [theme=dark] .colab-df-convert {\n",
              "      background-color: #3B4455;\n",
              "      fill: #D2E3FC;\n",
              "    }\n",
              "\n",
              "    [theme=dark] .colab-df-convert:hover {\n",
              "      background-color: #434B5C;\n",
              "      box-shadow: 0px 1px 3px 1px rgba(0, 0, 0, 0.15);\n",
              "      filter: drop-shadow(0px 1px 2px rgba(0, 0, 0, 0.3));\n",
              "      fill: #FFFFFF;\n",
              "    }\n",
              "  </style>\n",
              "\n",
              "      <script>\n",
              "        const buttonEl =\n",
              "          document.querySelector('#df-1ac97075-0390-4603-a2b3-5d2609f6f105 button.colab-df-convert');\n",
              "        buttonEl.style.display =\n",
              "          google.colab.kernel.accessAllowed ? 'block' : 'none';\n",
              "\n",
              "        async function convertToInteractive(key) {\n",
              "          const element = document.querySelector('#df-1ac97075-0390-4603-a2b3-5d2609f6f105');\n",
              "          const dataTable =\n",
              "            await google.colab.kernel.invokeFunction('convertToInteractive',\n",
              "                                                     [key], {});\n",
              "          if (!dataTable) return;\n",
              "\n",
              "          const docLinkHtml = 'Like what you see? Visit the ' +\n",
              "            '<a target=\"_blank\" href=https://colab.research.google.com/notebooks/data_table.ipynb>data table notebook</a>'\n",
              "            + ' to learn more about interactive tables.';\n",
              "          element.innerHTML = '';\n",
              "          dataTable['output_type'] = 'display_data';\n",
              "          await google.colab.output.renderOutput(dataTable, element);\n",
              "          const docLink = document.createElement('div');\n",
              "          docLink.innerHTML = docLinkHtml;\n",
              "          element.appendChild(docLink);\n",
              "        }\n",
              "      </script>\n",
              "    </div>\n",
              "  </div>\n",
              "  "
            ]
          },
          "metadata": {},
          "execution_count": 28
        }
      ]
    },
    {
      "cell_type": "code",
      "source": [],
      "metadata": {
        "colab": {
          "base_uri": "https://localhost:8080/"
        },
        "id": "ka7yqj66jKBD",
        "outputId": "0512f472-0c8a-4bb7-bc4d-66abc5a5524a"
      },
      "execution_count": 29,
      "outputs": [
        {
          "output_type": "stream",
          "name": "stdout",
          "text": [
            "Looking in indexes: https://pypi.org/simple, https://us-python.pkg.dev/colab-wheels/public/simple/\n",
            "Collecting category-encoders\n",
            "  Downloading category_encoders-2.6.0-py2.py3-none-any.whl (81 kB)\n",
            "\u001b[2K     \u001b[90m━━━━━━━━━━━━━━━━━━━━━━━━━━━━━━━━━━━━━━━━\u001b[0m \u001b[32m81.2/81.2 KB\u001b[0m \u001b[31m2.8 MB/s\u001b[0m eta \u001b[36m0:00:00\u001b[0m\n",
            "\u001b[?25hRequirement already satisfied: scikit-learn>=0.20.0 in /usr/local/lib/python3.9/dist-packages (from category-encoders) (1.2.1)\n",
            "Requirement already satisfied: scipy>=1.0.0 in /usr/local/lib/python3.9/dist-packages (from category-encoders) (1.10.1)\n",
            "Requirement already satisfied: statsmodels>=0.9.0 in /usr/local/lib/python3.9/dist-packages (from category-encoders) (0.13.5)\n",
            "Requirement already satisfied: patsy>=0.5.1 in /usr/local/lib/python3.9/dist-packages (from category-encoders) (0.5.3)\n",
            "Requirement already satisfied: numpy>=1.14.0 in /usr/local/lib/python3.9/dist-packages (from category-encoders) (1.22.4)\n",
            "Requirement already satisfied: pandas>=1.0.5 in /usr/local/lib/python3.9/dist-packages (from category-encoders) (1.3.5)\n",
            "Requirement already satisfied: pytz>=2017.3 in /usr/local/lib/python3.9/dist-packages (from pandas>=1.0.5->category-encoders) (2022.7.1)\n",
            "Requirement already satisfied: python-dateutil>=2.7.3 in /usr/local/lib/python3.9/dist-packages (from pandas>=1.0.5->category-encoders) (2.8.2)\n",
            "Requirement already satisfied: six in /usr/local/lib/python3.9/dist-packages (from patsy>=0.5.1->category-encoders) (1.15.0)\n",
            "Requirement already satisfied: threadpoolctl>=2.0.0 in /usr/local/lib/python3.9/dist-packages (from scikit-learn>=0.20.0->category-encoders) (3.1.0)\n",
            "Requirement already satisfied: joblib>=1.1.1 in /usr/local/lib/python3.9/dist-packages (from scikit-learn>=0.20.0->category-encoders) (1.2.0)\n",
            "Requirement already satisfied: packaging>=21.3 in /usr/local/lib/python3.9/dist-packages (from statsmodels>=0.9.0->category-encoders) (23.0)\n",
            "Installing collected packages: category-encoders\n",
            "Successfully installed category-encoders-2.6.0\n"
          ]
        }
      ]
    },
    {
      "cell_type": "code",
      "source": [
        "# Importing Hashing Encoder\n",
        "from category_encoders import HashingEncoder"
      ],
      "metadata": {
        "id": "oPIWGpLfjnkZ"
      },
      "execution_count": 30,
      "outputs": []
    },
    {
      "cell_type": "markdown",
      "source": [
        "For the remaining two categorical columns, we will use hashing encoder."
      ],
      "metadata": {
        "id": "yW0bdl6CifKx"
      }
    },
    {
      "cell_type": "code",
      "source": [
        "# n_components determines how many columns you'll have afterward, here we'll transform 2 columns into 8 columns\n",
        "hash_encoder = HashingEncoder(cols=['Beverage', 'Beverage_prep'], n_components=8)\n",
        "X_train_pro = hash_encoder.fit_transform(X_train_pro)\n",
        "X_test_pro = hash_encoder.fit_transform(X_test_pro)\n",
        "X_pro_colnames = X_test_pro.columns.tolist() # We'll use this line later to keep column names\n",
        "X_train_pro.head()"
      ],
      "metadata": {
        "colab": {
          "base_uri": "https://localhost:8080/",
          "height": 317
        },
        "id": "qO3a5YUAik4_",
        "outputId": "2d05487a-75e9-42d5-9268-2a271fe009c7"
      },
      "execution_count": 31,
      "outputs": [
        {
          "output_type": "execute_result",
          "data": {
            "text/plain": [
              "     col_0  col_1  col_2  col_3  col_4  col_5  col_6  col_7  Total Fat  \\\n",
              "91       0      1      0      0      1      0      0      0        6.0   \n",
              "54       0      2      0      0      0      0      0      0        6.0   \n",
              "186      0      1      1      0      0      0      0      0        1.5   \n",
              "68       0      1      0      0      1      0      0      0        1.0   \n",
              "197      1      0      0      0      0      1      0      0        6.0   \n",
              "\n",
              "     Trans Fat  ...  Caffeine  Beverage_category_Classic Espresso Drinks  \\\n",
              "91         1.5  ...      20.0                                          0   \n",
              "54         3.0  ...     150.0                                          1   \n",
              "186        0.2  ...      95.0                                          0   \n",
              "68         1.0  ...     150.0                                          0   \n",
              "197        3.5  ...     140.0                                          0   \n",
              "\n",
              "     Beverage_category_Coffee  Beverage_category_Frappuccino® Blended Coffee  \\\n",
              "91                          0                                              0   \n",
              "54                          0                                              0   \n",
              "186                         0                                              1   \n",
              "68                          0                                              0   \n",
              "197                         0                                              1   \n",
              "\n",
              "     Beverage_category_Frappuccino® Blended Crème  \\\n",
              "91                                              0   \n",
              "54                                              0   \n",
              "186                                             0   \n",
              "68                                              0   \n",
              "197                                             0   \n",
              "\n",
              "     Beverage_category_Frappuccino® Light Blended Coffee  \\\n",
              "91                                                   0     \n",
              "54                                                   0     \n",
              "186                                                  0     \n",
              "68                                                   0     \n",
              "197                                                  0     \n",
              "\n",
              "     Beverage_category_Shaken Iced Beverages  \\\n",
              "91                                         0   \n",
              "54                                         0   \n",
              "186                                        0   \n",
              "68                                         0   \n",
              "197                                        0   \n",
              "\n",
              "     Beverage_category_Signature Espresso Drinks  Beverage_category_Smoothies  \\\n",
              "91                                             1                            0   \n",
              "54                                             0                            0   \n",
              "186                                            0                            0   \n",
              "68                                             1                            0   \n",
              "197                                            0                            0   \n",
              "\n",
              "     Beverage_category_Tazo® Tea Drinks  \n",
              "91                                    0  \n",
              "54                                    0  \n",
              "186                                   0  \n",
              "68                                    0  \n",
              "197                                   0  \n",
              "\n",
              "[5 rows x 31 columns]"
            ],
            "text/html": [
              "\n",
              "  <div id=\"df-b94dc664-7139-4c07-b557-f348c3aaac47\">\n",
              "    <div class=\"colab-df-container\">\n",
              "      <div>\n",
              "<style scoped>\n",
              "    .dataframe tbody tr th:only-of-type {\n",
              "        vertical-align: middle;\n",
              "    }\n",
              "\n",
              "    .dataframe tbody tr th {\n",
              "        vertical-align: top;\n",
              "    }\n",
              "\n",
              "    .dataframe thead th {\n",
              "        text-align: right;\n",
              "    }\n",
              "</style>\n",
              "<table border=\"1\" class=\"dataframe\">\n",
              "  <thead>\n",
              "    <tr style=\"text-align: right;\">\n",
              "      <th></th>\n",
              "      <th>col_0</th>\n",
              "      <th>col_1</th>\n",
              "      <th>col_2</th>\n",
              "      <th>col_3</th>\n",
              "      <th>col_4</th>\n",
              "      <th>col_5</th>\n",
              "      <th>col_6</th>\n",
              "      <th>col_7</th>\n",
              "      <th>Total Fat</th>\n",
              "      <th>Trans Fat</th>\n",
              "      <th>...</th>\n",
              "      <th>Caffeine</th>\n",
              "      <th>Beverage_category_Classic Espresso Drinks</th>\n",
              "      <th>Beverage_category_Coffee</th>\n",
              "      <th>Beverage_category_Frappuccino® Blended Coffee</th>\n",
              "      <th>Beverage_category_Frappuccino® Blended Crème</th>\n",
              "      <th>Beverage_category_Frappuccino® Light Blended Coffee</th>\n",
              "      <th>Beverage_category_Shaken Iced Beverages</th>\n",
              "      <th>Beverage_category_Signature Espresso Drinks</th>\n",
              "      <th>Beverage_category_Smoothies</th>\n",
              "      <th>Beverage_category_Tazo® Tea Drinks</th>\n",
              "    </tr>\n",
              "  </thead>\n",
              "  <tbody>\n",
              "    <tr>\n",
              "      <th>91</th>\n",
              "      <td>0</td>\n",
              "      <td>1</td>\n",
              "      <td>0</td>\n",
              "      <td>0</td>\n",
              "      <td>1</td>\n",
              "      <td>0</td>\n",
              "      <td>0</td>\n",
              "      <td>0</td>\n",
              "      <td>6.0</td>\n",
              "      <td>1.5</td>\n",
              "      <td>...</td>\n",
              "      <td>20.0</td>\n",
              "      <td>0</td>\n",
              "      <td>0</td>\n",
              "      <td>0</td>\n",
              "      <td>0</td>\n",
              "      <td>0</td>\n",
              "      <td>0</td>\n",
              "      <td>1</td>\n",
              "      <td>0</td>\n",
              "      <td>0</td>\n",
              "    </tr>\n",
              "    <tr>\n",
              "      <th>54</th>\n",
              "      <td>0</td>\n",
              "      <td>2</td>\n",
              "      <td>0</td>\n",
              "      <td>0</td>\n",
              "      <td>0</td>\n",
              "      <td>0</td>\n",
              "      <td>0</td>\n",
              "      <td>0</td>\n",
              "      <td>6.0</td>\n",
              "      <td>3.0</td>\n",
              "      <td>...</td>\n",
              "      <td>150.0</td>\n",
              "      <td>1</td>\n",
              "      <td>0</td>\n",
              "      <td>0</td>\n",
              "      <td>0</td>\n",
              "      <td>0</td>\n",
              "      <td>0</td>\n",
              "      <td>0</td>\n",
              "      <td>0</td>\n",
              "      <td>0</td>\n",
              "    </tr>\n",
              "    <tr>\n",
              "      <th>186</th>\n",
              "      <td>0</td>\n",
              "      <td>1</td>\n",
              "      <td>1</td>\n",
              "      <td>0</td>\n",
              "      <td>0</td>\n",
              "      <td>0</td>\n",
              "      <td>0</td>\n",
              "      <td>0</td>\n",
              "      <td>1.5</td>\n",
              "      <td>0.2</td>\n",
              "      <td>...</td>\n",
              "      <td>95.0</td>\n",
              "      <td>0</td>\n",
              "      <td>0</td>\n",
              "      <td>1</td>\n",
              "      <td>0</td>\n",
              "      <td>0</td>\n",
              "      <td>0</td>\n",
              "      <td>0</td>\n",
              "      <td>0</td>\n",
              "      <td>0</td>\n",
              "    </tr>\n",
              "    <tr>\n",
              "      <th>68</th>\n",
              "      <td>0</td>\n",
              "      <td>1</td>\n",
              "      <td>0</td>\n",
              "      <td>0</td>\n",
              "      <td>1</td>\n",
              "      <td>0</td>\n",
              "      <td>0</td>\n",
              "      <td>0</td>\n",
              "      <td>1.0</td>\n",
              "      <td>1.0</td>\n",
              "      <td>...</td>\n",
              "      <td>150.0</td>\n",
              "      <td>0</td>\n",
              "      <td>0</td>\n",
              "      <td>0</td>\n",
              "      <td>0</td>\n",
              "      <td>0</td>\n",
              "      <td>0</td>\n",
              "      <td>1</td>\n",
              "      <td>0</td>\n",
              "      <td>0</td>\n",
              "    </tr>\n",
              "    <tr>\n",
              "      <th>197</th>\n",
              "      <td>1</td>\n",
              "      <td>0</td>\n",
              "      <td>0</td>\n",
              "      <td>0</td>\n",
              "      <td>0</td>\n",
              "      <td>1</td>\n",
              "      <td>0</td>\n",
              "      <td>0</td>\n",
              "      <td>6.0</td>\n",
              "      <td>3.5</td>\n",
              "      <td>...</td>\n",
              "      <td>140.0</td>\n",
              "      <td>0</td>\n",
              "      <td>0</td>\n",
              "      <td>1</td>\n",
              "      <td>0</td>\n",
              "      <td>0</td>\n",
              "      <td>0</td>\n",
              "      <td>0</td>\n",
              "      <td>0</td>\n",
              "      <td>0</td>\n",
              "    </tr>\n",
              "  </tbody>\n",
              "</table>\n",
              "<p>5 rows × 31 columns</p>\n",
              "</div>\n",
              "      <button class=\"colab-df-convert\" onclick=\"convertToInteractive('df-b94dc664-7139-4c07-b557-f348c3aaac47')\"\n",
              "              title=\"Convert this dataframe to an interactive table.\"\n",
              "              style=\"display:none;\">\n",
              "        \n",
              "  <svg xmlns=\"http://www.w3.org/2000/svg\" height=\"24px\"viewBox=\"0 0 24 24\"\n",
              "       width=\"24px\">\n",
              "    <path d=\"M0 0h24v24H0V0z\" fill=\"none\"/>\n",
              "    <path d=\"M18.56 5.44l.94 2.06.94-2.06 2.06-.94-2.06-.94-.94-2.06-.94 2.06-2.06.94zm-11 1L8.5 8.5l.94-2.06 2.06-.94-2.06-.94L8.5 2.5l-.94 2.06-2.06.94zm10 10l.94 2.06.94-2.06 2.06-.94-2.06-.94-.94-2.06-.94 2.06-2.06.94z\"/><path d=\"M17.41 7.96l-1.37-1.37c-.4-.4-.92-.59-1.43-.59-.52 0-1.04.2-1.43.59L10.3 9.45l-7.72 7.72c-.78.78-.78 2.05 0 2.83L4 21.41c.39.39.9.59 1.41.59.51 0 1.02-.2 1.41-.59l7.78-7.78 2.81-2.81c.8-.78.8-2.07 0-2.86zM5.41 20L4 18.59l7.72-7.72 1.47 1.35L5.41 20z\"/>\n",
              "  </svg>\n",
              "      </button>\n",
              "      \n",
              "  <style>\n",
              "    .colab-df-container {\n",
              "      display:flex;\n",
              "      flex-wrap:wrap;\n",
              "      gap: 12px;\n",
              "    }\n",
              "\n",
              "    .colab-df-convert {\n",
              "      background-color: #E8F0FE;\n",
              "      border: none;\n",
              "      border-radius: 50%;\n",
              "      cursor: pointer;\n",
              "      display: none;\n",
              "      fill: #1967D2;\n",
              "      height: 32px;\n",
              "      padding: 0 0 0 0;\n",
              "      width: 32px;\n",
              "    }\n",
              "\n",
              "    .colab-df-convert:hover {\n",
              "      background-color: #E2EBFA;\n",
              "      box-shadow: 0px 1px 2px rgba(60, 64, 67, 0.3), 0px 1px 3px 1px rgba(60, 64, 67, 0.15);\n",
              "      fill: #174EA6;\n",
              "    }\n",
              "\n",
              "    [theme=dark] .colab-df-convert {\n",
              "      background-color: #3B4455;\n",
              "      fill: #D2E3FC;\n",
              "    }\n",
              "\n",
              "    [theme=dark] .colab-df-convert:hover {\n",
              "      background-color: #434B5C;\n",
              "      box-shadow: 0px 1px 3px 1px rgba(0, 0, 0, 0.15);\n",
              "      filter: drop-shadow(0px 1px 2px rgba(0, 0, 0, 0.3));\n",
              "      fill: #FFFFFF;\n",
              "    }\n",
              "  </style>\n",
              "\n",
              "      <script>\n",
              "        const buttonEl =\n",
              "          document.querySelector('#df-b94dc664-7139-4c07-b557-f348c3aaac47 button.colab-df-convert');\n",
              "        buttonEl.style.display =\n",
              "          google.colab.kernel.accessAllowed ? 'block' : 'none';\n",
              "\n",
              "        async function convertToInteractive(key) {\n",
              "          const element = document.querySelector('#df-b94dc664-7139-4c07-b557-f348c3aaac47');\n",
              "          const dataTable =\n",
              "            await google.colab.kernel.invokeFunction('convertToInteractive',\n",
              "                                                     [key], {});\n",
              "          if (!dataTable) return;\n",
              "\n",
              "          const docLinkHtml = 'Like what you see? Visit the ' +\n",
              "            '<a target=\"_blank\" href=https://colab.research.google.com/notebooks/data_table.ipynb>data table notebook</a>'\n",
              "            + ' to learn more about interactive tables.';\n",
              "          element.innerHTML = '';\n",
              "          dataTable['output_type'] = 'display_data';\n",
              "          await google.colab.output.renderOutput(dataTable, element);\n",
              "          const docLink = document.createElement('div');\n",
              "          docLink.innerHTML = docLinkHtml;\n",
              "          element.appendChild(docLink);\n",
              "        }\n",
              "      </script>\n",
              "    </div>\n",
              "  </div>\n",
              "  "
            ]
          },
          "metadata": {},
          "execution_count": 31
        }
      ]
    },
    {
      "cell_type": "markdown",
      "source": [
        "### Standardizing Data\n",
        "We are using standard scaler from scikit-learn for standarizing data."
      ],
      "metadata": {
        "id": "qleW7YwAkiUN"
      }
    },
    {
      "cell_type": "code",
      "source": [
        "# using standard scaler to scale the data\n",
        "scaler = StandardScaler()\n",
        "X_train_pro = pd.DataFrame(scaler.fit_transform(X_train_pro), columns=X_pro_colnames)\n",
        "X_test_pro = pd.DataFrame(scaler.fit_transform(X_test_pro), columns=X_pro_colnames)\n",
        "X_train_pro.head()"
      ],
      "metadata": {
        "colab": {
          "base_uri": "https://localhost:8080/",
          "height": 317
        },
        "id": "z9WZ7gQVkJqK",
        "outputId": "b8e80141-5778-419b-e567-2ccd9eb84852"
      },
      "execution_count": 32,
      "outputs": [
        {
          "output_type": "execute_result",
          "data": {
            "text/plain": [
              "      col_0     col_1     col_2     col_3     col_4     col_5     col_6  \\\n",
              "0 -0.289538  0.432037 -0.342467 -0.427793  1.195965 -0.759165 -0.241825   \n",
              "1 -0.289538  2.209283 -0.342467 -0.427793 -0.702892 -0.759165 -0.241825   \n",
              "2 -0.289538  0.432037  2.919986 -0.427793 -0.702892 -0.759165 -0.241825   \n",
              "3 -0.289538  0.432037 -0.342467 -0.427793  1.195965 -0.759165 -0.241825   \n",
              "4  3.453776 -1.345208 -0.342467 -0.427793 -0.702892  1.072954 -0.241825   \n",
              "\n",
              "      col_7  Total Fat  Trans Fat  ...  Caffeine  \\\n",
              "0 -0.266469   1.082626   0.138051  ... -1.085868   \n",
              "1 -0.266469   1.082626   1.116663  ...  0.979460   \n",
              "2 -0.266469  -0.515125  -0.710080  ...  0.105667   \n",
              "3 -0.266469  -0.692653  -0.188153  ...  0.979460   \n",
              "4 -0.266469   1.082626   1.442867  ...  0.820589   \n",
              "\n",
              "   Beverage_category_Classic Espresso Drinks  Beverage_category_Coffee  \\\n",
              "0                                  -0.592238                 -0.129823   \n",
              "1                                   1.688509                 -0.129823   \n",
              "2                                  -0.592238                 -0.129823   \n",
              "3                                  -0.592238                 -0.129823   \n",
              "4                                  -0.592238                 -0.129823   \n",
              "\n",
              "   Beverage_category_Frappuccino® Blended Coffee  \\\n",
              "0                                      -0.427793   \n",
              "1                                      -0.427793   \n",
              "2                                       2.337581   \n",
              "3                                      -0.427793   \n",
              "4                                       2.337581   \n",
              "\n",
              "   Beverage_category_Frappuccino® Blended Crème  \\\n",
              "0                                     -0.228748   \n",
              "1                                     -0.228748   \n",
              "2                                     -0.228748   \n",
              "3                                     -0.228748   \n",
              "4                                     -0.228748   \n",
              "\n",
              "   Beverage_category_Frappuccino® Light Blended Coffee  \\\n",
              "0                                          -0.185164     \n",
              "1                                          -0.185164     \n",
              "2                                          -0.185164     \n",
              "3                                          -0.185164     \n",
              "4                                          -0.185164     \n",
              "\n",
              "   Beverage_category_Shaken Iced Beverages  \\\n",
              "0                                -0.241825   \n",
              "1                                -0.241825   \n",
              "2                                -0.241825   \n",
              "3                                -0.241825   \n",
              "4                                -0.241825   \n",
              "\n",
              "   Beverage_category_Signature Espresso Drinks  Beverage_category_Smoothies  \\\n",
              "0                                     2.117746                    -0.215041   \n",
              "1                                    -0.472200                    -0.215041   \n",
              "2                                    -0.472200                    -0.215041   \n",
              "3                                     2.117746                    -0.215041   \n",
              "4                                    -0.472200                    -0.215041   \n",
              "\n",
              "   Beverage_category_Tazo® Tea Drinks  \n",
              "0                           -0.506897  \n",
              "1                           -0.506897  \n",
              "2                           -0.506897  \n",
              "3                           -0.506897  \n",
              "4                           -0.506897  \n",
              "\n",
              "[5 rows x 31 columns]"
            ],
            "text/html": [
              "\n",
              "  <div id=\"df-88b10ee8-5874-42ca-84b6-f5fea12a259d\">\n",
              "    <div class=\"colab-df-container\">\n",
              "      <div>\n",
              "<style scoped>\n",
              "    .dataframe tbody tr th:only-of-type {\n",
              "        vertical-align: middle;\n",
              "    }\n",
              "\n",
              "    .dataframe tbody tr th {\n",
              "        vertical-align: top;\n",
              "    }\n",
              "\n",
              "    .dataframe thead th {\n",
              "        text-align: right;\n",
              "    }\n",
              "</style>\n",
              "<table border=\"1\" class=\"dataframe\">\n",
              "  <thead>\n",
              "    <tr style=\"text-align: right;\">\n",
              "      <th></th>\n",
              "      <th>col_0</th>\n",
              "      <th>col_1</th>\n",
              "      <th>col_2</th>\n",
              "      <th>col_3</th>\n",
              "      <th>col_4</th>\n",
              "      <th>col_5</th>\n",
              "      <th>col_6</th>\n",
              "      <th>col_7</th>\n",
              "      <th>Total Fat</th>\n",
              "      <th>Trans Fat</th>\n",
              "      <th>...</th>\n",
              "      <th>Caffeine</th>\n",
              "      <th>Beverage_category_Classic Espresso Drinks</th>\n",
              "      <th>Beverage_category_Coffee</th>\n",
              "      <th>Beverage_category_Frappuccino® Blended Coffee</th>\n",
              "      <th>Beverage_category_Frappuccino® Blended Crème</th>\n",
              "      <th>Beverage_category_Frappuccino® Light Blended Coffee</th>\n",
              "      <th>Beverage_category_Shaken Iced Beverages</th>\n",
              "      <th>Beverage_category_Signature Espresso Drinks</th>\n",
              "      <th>Beverage_category_Smoothies</th>\n",
              "      <th>Beverage_category_Tazo® Tea Drinks</th>\n",
              "    </tr>\n",
              "  </thead>\n",
              "  <tbody>\n",
              "    <tr>\n",
              "      <th>0</th>\n",
              "      <td>-0.289538</td>\n",
              "      <td>0.432037</td>\n",
              "      <td>-0.342467</td>\n",
              "      <td>-0.427793</td>\n",
              "      <td>1.195965</td>\n",
              "      <td>-0.759165</td>\n",
              "      <td>-0.241825</td>\n",
              "      <td>-0.266469</td>\n",
              "      <td>1.082626</td>\n",
              "      <td>0.138051</td>\n",
              "      <td>...</td>\n",
              "      <td>-1.085868</td>\n",
              "      <td>-0.592238</td>\n",
              "      <td>-0.129823</td>\n",
              "      <td>-0.427793</td>\n",
              "      <td>-0.228748</td>\n",
              "      <td>-0.185164</td>\n",
              "      <td>-0.241825</td>\n",
              "      <td>2.117746</td>\n",
              "      <td>-0.215041</td>\n",
              "      <td>-0.506897</td>\n",
              "    </tr>\n",
              "    <tr>\n",
              "      <th>1</th>\n",
              "      <td>-0.289538</td>\n",
              "      <td>2.209283</td>\n",
              "      <td>-0.342467</td>\n",
              "      <td>-0.427793</td>\n",
              "      <td>-0.702892</td>\n",
              "      <td>-0.759165</td>\n",
              "      <td>-0.241825</td>\n",
              "      <td>-0.266469</td>\n",
              "      <td>1.082626</td>\n",
              "      <td>1.116663</td>\n",
              "      <td>...</td>\n",
              "      <td>0.979460</td>\n",
              "      <td>1.688509</td>\n",
              "      <td>-0.129823</td>\n",
              "      <td>-0.427793</td>\n",
              "      <td>-0.228748</td>\n",
              "      <td>-0.185164</td>\n",
              "      <td>-0.241825</td>\n",
              "      <td>-0.472200</td>\n",
              "      <td>-0.215041</td>\n",
              "      <td>-0.506897</td>\n",
              "    </tr>\n",
              "    <tr>\n",
              "      <th>2</th>\n",
              "      <td>-0.289538</td>\n",
              "      <td>0.432037</td>\n",
              "      <td>2.919986</td>\n",
              "      <td>-0.427793</td>\n",
              "      <td>-0.702892</td>\n",
              "      <td>-0.759165</td>\n",
              "      <td>-0.241825</td>\n",
              "      <td>-0.266469</td>\n",
              "      <td>-0.515125</td>\n",
              "      <td>-0.710080</td>\n",
              "      <td>...</td>\n",
              "      <td>0.105667</td>\n",
              "      <td>-0.592238</td>\n",
              "      <td>-0.129823</td>\n",
              "      <td>2.337581</td>\n",
              "      <td>-0.228748</td>\n",
              "      <td>-0.185164</td>\n",
              "      <td>-0.241825</td>\n",
              "      <td>-0.472200</td>\n",
              "      <td>-0.215041</td>\n",
              "      <td>-0.506897</td>\n",
              "    </tr>\n",
              "    <tr>\n",
              "      <th>3</th>\n",
              "      <td>-0.289538</td>\n",
              "      <td>0.432037</td>\n",
              "      <td>-0.342467</td>\n",
              "      <td>-0.427793</td>\n",
              "      <td>1.195965</td>\n",
              "      <td>-0.759165</td>\n",
              "      <td>-0.241825</td>\n",
              "      <td>-0.266469</td>\n",
              "      <td>-0.692653</td>\n",
              "      <td>-0.188153</td>\n",
              "      <td>...</td>\n",
              "      <td>0.979460</td>\n",
              "      <td>-0.592238</td>\n",
              "      <td>-0.129823</td>\n",
              "      <td>-0.427793</td>\n",
              "      <td>-0.228748</td>\n",
              "      <td>-0.185164</td>\n",
              "      <td>-0.241825</td>\n",
              "      <td>2.117746</td>\n",
              "      <td>-0.215041</td>\n",
              "      <td>-0.506897</td>\n",
              "    </tr>\n",
              "    <tr>\n",
              "      <th>4</th>\n",
              "      <td>3.453776</td>\n",
              "      <td>-1.345208</td>\n",
              "      <td>-0.342467</td>\n",
              "      <td>-0.427793</td>\n",
              "      <td>-0.702892</td>\n",
              "      <td>1.072954</td>\n",
              "      <td>-0.241825</td>\n",
              "      <td>-0.266469</td>\n",
              "      <td>1.082626</td>\n",
              "      <td>1.442867</td>\n",
              "      <td>...</td>\n",
              "      <td>0.820589</td>\n",
              "      <td>-0.592238</td>\n",
              "      <td>-0.129823</td>\n",
              "      <td>2.337581</td>\n",
              "      <td>-0.228748</td>\n",
              "      <td>-0.185164</td>\n",
              "      <td>-0.241825</td>\n",
              "      <td>-0.472200</td>\n",
              "      <td>-0.215041</td>\n",
              "      <td>-0.506897</td>\n",
              "    </tr>\n",
              "  </tbody>\n",
              "</table>\n",
              "<p>5 rows × 31 columns</p>\n",
              "</div>\n",
              "      <button class=\"colab-df-convert\" onclick=\"convertToInteractive('df-88b10ee8-5874-42ca-84b6-f5fea12a259d')\"\n",
              "              title=\"Convert this dataframe to an interactive table.\"\n",
              "              style=\"display:none;\">\n",
              "        \n",
              "  <svg xmlns=\"http://www.w3.org/2000/svg\" height=\"24px\"viewBox=\"0 0 24 24\"\n",
              "       width=\"24px\">\n",
              "    <path d=\"M0 0h24v24H0V0z\" fill=\"none\"/>\n",
              "    <path d=\"M18.56 5.44l.94 2.06.94-2.06 2.06-.94-2.06-.94-.94-2.06-.94 2.06-2.06.94zm-11 1L8.5 8.5l.94-2.06 2.06-.94-2.06-.94L8.5 2.5l-.94 2.06-2.06.94zm10 10l.94 2.06.94-2.06 2.06-.94-2.06-.94-.94-2.06-.94 2.06-2.06.94z\"/><path d=\"M17.41 7.96l-1.37-1.37c-.4-.4-.92-.59-1.43-.59-.52 0-1.04.2-1.43.59L10.3 9.45l-7.72 7.72c-.78.78-.78 2.05 0 2.83L4 21.41c.39.39.9.59 1.41.59.51 0 1.02-.2 1.41-.59l7.78-7.78 2.81-2.81c.8-.78.8-2.07 0-2.86zM5.41 20L4 18.59l7.72-7.72 1.47 1.35L5.41 20z\"/>\n",
              "  </svg>\n",
              "      </button>\n",
              "      \n",
              "  <style>\n",
              "    .colab-df-container {\n",
              "      display:flex;\n",
              "      flex-wrap:wrap;\n",
              "      gap: 12px;\n",
              "    }\n",
              "\n",
              "    .colab-df-convert {\n",
              "      background-color: #E8F0FE;\n",
              "      border: none;\n",
              "      border-radius: 50%;\n",
              "      cursor: pointer;\n",
              "      display: none;\n",
              "      fill: #1967D2;\n",
              "      height: 32px;\n",
              "      padding: 0 0 0 0;\n",
              "      width: 32px;\n",
              "    }\n",
              "\n",
              "    .colab-df-convert:hover {\n",
              "      background-color: #E2EBFA;\n",
              "      box-shadow: 0px 1px 2px rgba(60, 64, 67, 0.3), 0px 1px 3px 1px rgba(60, 64, 67, 0.15);\n",
              "      fill: #174EA6;\n",
              "    }\n",
              "\n",
              "    [theme=dark] .colab-df-convert {\n",
              "      background-color: #3B4455;\n",
              "      fill: #D2E3FC;\n",
              "    }\n",
              "\n",
              "    [theme=dark] .colab-df-convert:hover {\n",
              "      background-color: #434B5C;\n",
              "      box-shadow: 0px 1px 3px 1px rgba(0, 0, 0, 0.15);\n",
              "      filter: drop-shadow(0px 1px 2px rgba(0, 0, 0, 0.3));\n",
              "      fill: #FFFFFF;\n",
              "    }\n",
              "  </style>\n",
              "\n",
              "      <script>\n",
              "        const buttonEl =\n",
              "          document.querySelector('#df-88b10ee8-5874-42ca-84b6-f5fea12a259d button.colab-df-convert');\n",
              "        buttonEl.style.display =\n",
              "          google.colab.kernel.accessAllowed ? 'block' : 'none';\n",
              "\n",
              "        async function convertToInteractive(key) {\n",
              "          const element = document.querySelector('#df-88b10ee8-5874-42ca-84b6-f5fea12a259d');\n",
              "          const dataTable =\n",
              "            await google.colab.kernel.invokeFunction('convertToInteractive',\n",
              "                                                     [key], {});\n",
              "          if (!dataTable) return;\n",
              "\n",
              "          const docLinkHtml = 'Like what you see? Visit the ' +\n",
              "            '<a target=\"_blank\" href=https://colab.research.google.com/notebooks/data_table.ipynb>data table notebook</a>'\n",
              "            + ' to learn more about interactive tables.';\n",
              "          element.innerHTML = '';\n",
              "          dataTable['output_type'] = 'display_data';\n",
              "          await google.colab.output.renderOutput(dataTable, element);\n",
              "          const docLink = document.createElement('div');\n",
              "          docLink.innerHTML = docLinkHtml;\n",
              "          element.appendChild(docLink);\n",
              "        }\n",
              "      </script>\n",
              "    </div>\n",
              "  </div>\n",
              "  "
            ]
          },
          "metadata": {},
          "execution_count": 32
        }
      ]
    },
    {
      "cell_type": "markdown",
      "source": [
        "## Model Training\n"
      ],
      "metadata": {
        "id": "ACaGlvAXmj3p"
      }
    },
    {
      "cell_type": "code",
      "source": [
        "# importing Libraries\n",
        "from sklearn.metrics import accuracy_score, precision_score, recall_score, f1_score, confusion_matrix,classification_report\n",
        "from sklearn.model_selection import train_test_split, cross_val_score\n",
        "from sklearn.ensemble import AdaBoostClassifier, GradientBoostingClassifier\n",
        "from sklearn.tree import DecisionTreeClassifier\n",
        "from xgboost import XGBClassifier\n",
        "from sklearn.linear_model import LogisticRegression"
      ],
      "metadata": {
        "id": "DQ7fM37km3ME"
      },
      "execution_count": 33,
      "outputs": []
    },
    {
      "cell_type": "markdown",
      "source": [
        "### 1. Classification"
      ],
      "metadata": {
        "id": "m9j638Wkmp9m"
      }
    },
    {
      "cell_type": "markdown",
      "source": [
        "For classification, we are using Logistic regression and Decision tree"
      ],
      "metadata": {
        "id": "NJXNkxHzmtV6"
      }
    },
    {
      "cell_type": "code",
      "source": [
        "from sklearn.svm import SVC\n",
        "from sklearn.tree import DecisionTreeClassifier\n",
        "from sklearn.naive_bayes import GaussianNB\n",
        "from sklearn.neighbors import KNeighborsClassifier\n",
        "from sklearn.neural_network import MLPClassifier\n",
        "from sklearn.model_selection import cross_val_predict, cross_val_score\n",
        "import warnings\n",
        "warnings.filterwarnings(\"ignore\")\n",
        "\n",
        "#Classifiers that we will evaluate\n",
        "classifiers = {\n",
        "    'Logistic Regression': LogisticRegression(),\n",
        "    'SVM': SVC(),\n",
        "    'Decision Tree': DecisionTreeClassifier(),\n",
        "    'Naive Bayes': GaussianNB(),\n",
        "    'KNN': KNeighborsClassifier(),\n",
        "    'ANN': MLPClassifier(hidden_layer_sizes=(10,), max_iter=1000)\n",
        "}\n",
        "\n",
        "# Loop through each classifier, fit and predict using cross-validation\n",
        "for name, clf in classifiers.items():\n",
        "    scores = cross_val_score(clf, X_train_pro, y_train, cv=5)\n",
        "    print(f'\\n{name}\\n')\n",
        "    print(f'Accuracy: {scores.mean():.3f} (+/- {scores.std() * 2:.3f})\\n')\n",
        "    y_pred = cross_val_predict(clf, X_test_pro, y_test, cv=5)    \n",
        "    print(f'Confusion Matrix:\\n\\n{confusion_matrix(y_test, y_pred)}\\n')\n",
        "    print(f'\\nClassification Report:\\n\\n{classification_report(y_test, y_pred)}')\n",
        "    print('_'*70)"
      ],
      "metadata": {
        "id": "tBkqH4cvZAml"
      },
      "execution_count": null,
      "outputs": []
    },
    {
      "cell_type": "markdown",
      "source": [
        "## Inference -\n",
        "1. \n",
        "2.\n",
        "3.\n",
        "4."
      ],
      "metadata": {
        "id": "W5NUBZRnnmpQ"
      }
    },
    {
      "cell_type": "markdown",
      "source": [
        "### 2. Regression\n",
        "For regression, we are using Gradient Boost Regressor"
      ],
      "metadata": {
        "id": "eDUPddb1yHFh"
      }
    },
    {
      "cell_type": "code",
      "source": [
        "from sklearn.model_selection import cross_val_score\n",
        "from sklearn.linear_model import Ridge\n",
        "from sklearn.linear_model import Lasso\n",
        "from sklearn.neighbors import KNeighborsRegressor\n",
        "from sklearn.svm import SVR\n",
        "from sklearn.tree import DecisionTreeRegressor\n",
        "\n",
        "# Regressor Models that we will evaluate\n",
        "models = {\n",
        "    'Linear Regression': LinearRegression(),\n",
        "    'Ridge Regression': Ridge(),\n",
        "    'Lasso Regression': Lasso(),\n",
        "    'KNN Regression': KNeighborsRegressor(),\n",
        "    'Decision Tree Regression': DecisionTreeRegressor(),\n",
        "    'Support Vector Regression': SVR()\n",
        "}\n",
        "\n",
        "# Loop through each regressor, fit and predict\n",
        "for name, model in models.items():\n",
        "    print(f\"\\n{name}:\\n\")\n",
        "    model.fit(X_train_pro, y_train)\n",
        "    y_pred = model.predict(X_test_pro)\n",
        "    print(\"Mean absolute error:\", mean_absolute_error(y_test, y_pred))\n",
        "    print(\"Mean squared error:\", mean_squared_error(y_test, y_pred))\n",
        "    print(\"Root mean squared error:\", np.sqrt(mean_squared_error(y_test, y_pred)))\n",
        "    r2_score = model.score(X_test_pro, y_test)\n",
        "    print(\"Coefficient of determination (R2 score):\", r2_score)\n",
        "    print('_'*70)\n"
      ],
      "metadata": {
        "colab": {
          "base_uri": "https://localhost:8080/"
        },
        "id": "FDnJO62EzySt",
        "outputId": "925c2ac5-ceda-4a69-b15e-12be42c3a9ba"
      },
      "execution_count": 40,
      "outputs": [
        {
          "output_type": "stream",
          "name": "stdout",
          "text": [
            "Accuracy on training set: 0.993\n",
            "Accuracy on test set: 0.956\n",
            "RMSE:  21.44481169358997\n",
            "MAE:  18.206403305016213\n",
            "Max Error:  63.668726891741414\n",
            "Percentage Error: 0.09391\n"
          ]
        }
      ]
    },
    {
      "cell_type": "markdown",
      "source": [
        "### 3. Ensemble ML\n",
        "For ensemble ML we are using ADABoost and XGBoost"
      ],
      "metadata": {
        "id": "s0pmm9Bp3Qox"
      }
    },
    {
      "cell_type": "code",
      "source": [
        "# ADABoost\n",
        "adaboost = AdaBoostClassifier()\n",
        "\n",
        "# Train Adaboost Classifer\n",
        "model = adaboost.fit(X_train_pro, y_train)\n",
        "\n",
        "#Predict the response for test dataset\n",
        "pred = model.predict(X_test_pro)\n",
        "\n",
        "print(classification_report(pred, y_test))"
      ],
      "metadata": {
        "colab": {
          "base_uri": "https://localhost:8080/"
        },
        "id": "ODzsxWjD3ZSz",
        "outputId": "0a82a6e7-088a-4134-f73b-a21448a2a925"
      },
      "execution_count": 54,
      "outputs": [
        {
          "output_type": "stream",
          "name": "stdout",
          "text": [
            "              precision    recall  f1-score   support\n",
            "\n",
            "         0.0       0.00      0.00      0.00       0.0\n",
            "         1.0       0.00      0.00      0.00       4.0\n",
            "         3.0       0.00      0.00      0.00       0.0\n",
            "         5.0       0.00      0.00      0.00       0.0\n",
            "        15.0       0.00      0.00      0.00       1.0\n",
            "        16.0       0.00      0.00      0.00      19.0\n",
            "        20.0       0.00      0.00      0.00       1.0\n",
            "        21.0       0.00      0.00      0.00      36.0\n",
            "        60.0       0.00      0.00      0.00       0.0\n",
            "        80.0       0.00      0.00      0.00       0.0\n",
            "        90.0       0.00      0.00      0.00       0.0\n",
            "       100.0       0.00      0.00      0.00       0.0\n",
            "       110.0       0.00      0.00      0.00       0.0\n",
            "       120.0       0.00      0.00      0.00       0.0\n",
            "       130.0       0.00      0.00      0.00       0.0\n",
            "       150.0       0.00      0.00      0.00       0.0\n",
            "       170.0       0.00      0.00      0.00       0.0\n",
            "       180.0       0.00      0.00      0.00       0.0\n",
            "       190.0       0.00      0.00      0.00       0.0\n",
            "       200.0       0.00      0.00      0.00       0.0\n",
            "       210.0       0.00      0.00      0.00       0.0\n",
            "       230.0       0.00      0.00      0.00       0.0\n",
            "       240.0       0.00      0.00      0.00       0.0\n",
            "       260.0       0.00      0.00      0.00       0.0\n",
            "       270.0       0.00      0.00      0.00       0.0\n",
            "       280.0       0.00      0.00      0.00       0.0\n",
            "       290.0       0.00      0.00      0.00       0.0\n",
            "       300.0       0.00      0.00      0.00       0.0\n",
            "       310.0       0.00      0.00      0.00       0.0\n",
            "       340.0       0.00      0.00      0.00       0.0\n",
            "       350.0       0.00      0.00      0.00       0.0\n",
            "       510.0       0.00      0.00      0.00       0.0\n",
            "\n",
            "    accuracy                           0.00      61.0\n",
            "   macro avg       0.00      0.00      0.00      61.0\n",
            "weighted avg       0.00      0.00      0.00      61.0\n",
            "\n"
          ]
        }
      ]
    },
    {
      "cell_type": "code",
      "source": [
        "#printing crosstab\n",
        "pd.crosstab(pred, y_test)"
      ],
      "metadata": {
        "colab": {
          "base_uri": "https://localhost:8080/",
          "height": 279
        },
        "id": "k730yU384fnh",
        "outputId": "656d12f6-ed00-4f6e-eec2-d0f8e8ced373"
      },
      "execution_count": 42,
      "outputs": [
        {
          "output_type": "execute_result",
          "data": {
            "text/plain": [
              "Calories  0.0    3.0    5.0    60.0   80.0   90.0   100.0  110.0  120.0  \\\n",
              "row_0                                                                     \n",
              "0.0           2      1      1      0      0      0      0      0      0   \n",
              "130.0         0      0      0      1      0      0      0      0      1   \n",
              "150.0         0      0      0      1      4      2      2      2      3   \n",
              "200.0         0      0      0      0      0      0      0      0      0   \n",
              "\n",
              "Calories  130.0  ...  240.0  260.0  270.0  280.0  290.0  300.0  310.0  340.0  \\\n",
              "row_0            ...                                                           \n",
              "0.0           0  ...      0      0      0      0      0      0      0      0   \n",
              "130.0         0  ...      0      0      0      0      0      0      0      0   \n",
              "150.0         2  ...      1      0      0      0      0      0      0      0   \n",
              "200.0         1  ...      2      1      2      1      2      1      3      3   \n",
              "\n",
              "Calories  350.0  510.0  \n",
              "row_0                   \n",
              "0.0           0      0  \n",
              "130.0         0      0  \n",
              "150.0         0      0  \n",
              "200.0         2      1  \n",
              "\n",
              "[4 rows x 27 columns]"
            ],
            "text/html": [
              "\n",
              "  <div id=\"df-2d3a1d4c-cf31-4b94-81bf-064b24fc241e\">\n",
              "    <div class=\"colab-df-container\">\n",
              "      <div>\n",
              "<style scoped>\n",
              "    .dataframe tbody tr th:only-of-type {\n",
              "        vertical-align: middle;\n",
              "    }\n",
              "\n",
              "    .dataframe tbody tr th {\n",
              "        vertical-align: top;\n",
              "    }\n",
              "\n",
              "    .dataframe thead th {\n",
              "        text-align: right;\n",
              "    }\n",
              "</style>\n",
              "<table border=\"1\" class=\"dataframe\">\n",
              "  <thead>\n",
              "    <tr style=\"text-align: right;\">\n",
              "      <th>Calories</th>\n",
              "      <th>0.0</th>\n",
              "      <th>3.0</th>\n",
              "      <th>5.0</th>\n",
              "      <th>60.0</th>\n",
              "      <th>80.0</th>\n",
              "      <th>90.0</th>\n",
              "      <th>100.0</th>\n",
              "      <th>110.0</th>\n",
              "      <th>120.0</th>\n",
              "      <th>130.0</th>\n",
              "      <th>...</th>\n",
              "      <th>240.0</th>\n",
              "      <th>260.0</th>\n",
              "      <th>270.0</th>\n",
              "      <th>280.0</th>\n",
              "      <th>290.0</th>\n",
              "      <th>300.0</th>\n",
              "      <th>310.0</th>\n",
              "      <th>340.0</th>\n",
              "      <th>350.0</th>\n",
              "      <th>510.0</th>\n",
              "    </tr>\n",
              "    <tr>\n",
              "      <th>row_0</th>\n",
              "      <th></th>\n",
              "      <th></th>\n",
              "      <th></th>\n",
              "      <th></th>\n",
              "      <th></th>\n",
              "      <th></th>\n",
              "      <th></th>\n",
              "      <th></th>\n",
              "      <th></th>\n",
              "      <th></th>\n",
              "      <th></th>\n",
              "      <th></th>\n",
              "      <th></th>\n",
              "      <th></th>\n",
              "      <th></th>\n",
              "      <th></th>\n",
              "      <th></th>\n",
              "      <th></th>\n",
              "      <th></th>\n",
              "      <th></th>\n",
              "      <th></th>\n",
              "    </tr>\n",
              "  </thead>\n",
              "  <tbody>\n",
              "    <tr>\n",
              "      <th>0.0</th>\n",
              "      <td>2</td>\n",
              "      <td>1</td>\n",
              "      <td>1</td>\n",
              "      <td>0</td>\n",
              "      <td>0</td>\n",
              "      <td>0</td>\n",
              "      <td>0</td>\n",
              "      <td>0</td>\n",
              "      <td>0</td>\n",
              "      <td>0</td>\n",
              "      <td>...</td>\n",
              "      <td>0</td>\n",
              "      <td>0</td>\n",
              "      <td>0</td>\n",
              "      <td>0</td>\n",
              "      <td>0</td>\n",
              "      <td>0</td>\n",
              "      <td>0</td>\n",
              "      <td>0</td>\n",
              "      <td>0</td>\n",
              "      <td>0</td>\n",
              "    </tr>\n",
              "    <tr>\n",
              "      <th>130.0</th>\n",
              "      <td>0</td>\n",
              "      <td>0</td>\n",
              "      <td>0</td>\n",
              "      <td>1</td>\n",
              "      <td>0</td>\n",
              "      <td>0</td>\n",
              "      <td>0</td>\n",
              "      <td>0</td>\n",
              "      <td>1</td>\n",
              "      <td>0</td>\n",
              "      <td>...</td>\n",
              "      <td>0</td>\n",
              "      <td>0</td>\n",
              "      <td>0</td>\n",
              "      <td>0</td>\n",
              "      <td>0</td>\n",
              "      <td>0</td>\n",
              "      <td>0</td>\n",
              "      <td>0</td>\n",
              "      <td>0</td>\n",
              "      <td>0</td>\n",
              "    </tr>\n",
              "    <tr>\n",
              "      <th>150.0</th>\n",
              "      <td>0</td>\n",
              "      <td>0</td>\n",
              "      <td>0</td>\n",
              "      <td>1</td>\n",
              "      <td>4</td>\n",
              "      <td>2</td>\n",
              "      <td>2</td>\n",
              "      <td>2</td>\n",
              "      <td>3</td>\n",
              "      <td>2</td>\n",
              "      <td>...</td>\n",
              "      <td>1</td>\n",
              "      <td>0</td>\n",
              "      <td>0</td>\n",
              "      <td>0</td>\n",
              "      <td>0</td>\n",
              "      <td>0</td>\n",
              "      <td>0</td>\n",
              "      <td>0</td>\n",
              "      <td>0</td>\n",
              "      <td>0</td>\n",
              "    </tr>\n",
              "    <tr>\n",
              "      <th>200.0</th>\n",
              "      <td>0</td>\n",
              "      <td>0</td>\n",
              "      <td>0</td>\n",
              "      <td>0</td>\n",
              "      <td>0</td>\n",
              "      <td>0</td>\n",
              "      <td>0</td>\n",
              "      <td>0</td>\n",
              "      <td>0</td>\n",
              "      <td>1</td>\n",
              "      <td>...</td>\n",
              "      <td>2</td>\n",
              "      <td>1</td>\n",
              "      <td>2</td>\n",
              "      <td>1</td>\n",
              "      <td>2</td>\n",
              "      <td>1</td>\n",
              "      <td>3</td>\n",
              "      <td>3</td>\n",
              "      <td>2</td>\n",
              "      <td>1</td>\n",
              "    </tr>\n",
              "  </tbody>\n",
              "</table>\n",
              "<p>4 rows × 27 columns</p>\n",
              "</div>\n",
              "      <button class=\"colab-df-convert\" onclick=\"convertToInteractive('df-2d3a1d4c-cf31-4b94-81bf-064b24fc241e')\"\n",
              "              title=\"Convert this dataframe to an interactive table.\"\n",
              "              style=\"display:none;\">\n",
              "        \n",
              "  <svg xmlns=\"http://www.w3.org/2000/svg\" height=\"24px\"viewBox=\"0 0 24 24\"\n",
              "       width=\"24px\">\n",
              "    <path d=\"M0 0h24v24H0V0z\" fill=\"none\"/>\n",
              "    <path d=\"M18.56 5.44l.94 2.06.94-2.06 2.06-.94-2.06-.94-.94-2.06-.94 2.06-2.06.94zm-11 1L8.5 8.5l.94-2.06 2.06-.94-2.06-.94L8.5 2.5l-.94 2.06-2.06.94zm10 10l.94 2.06.94-2.06 2.06-.94-2.06-.94-.94-2.06-.94 2.06-2.06.94z\"/><path d=\"M17.41 7.96l-1.37-1.37c-.4-.4-.92-.59-1.43-.59-.52 0-1.04.2-1.43.59L10.3 9.45l-7.72 7.72c-.78.78-.78 2.05 0 2.83L4 21.41c.39.39.9.59 1.41.59.51 0 1.02-.2 1.41-.59l7.78-7.78 2.81-2.81c.8-.78.8-2.07 0-2.86zM5.41 20L4 18.59l7.72-7.72 1.47 1.35L5.41 20z\"/>\n",
              "  </svg>\n",
              "      </button>\n",
              "      \n",
              "  <style>\n",
              "    .colab-df-container {\n",
              "      display:flex;\n",
              "      flex-wrap:wrap;\n",
              "      gap: 12px;\n",
              "    }\n",
              "\n",
              "    .colab-df-convert {\n",
              "      background-color: #E8F0FE;\n",
              "      border: none;\n",
              "      border-radius: 50%;\n",
              "      cursor: pointer;\n",
              "      display: none;\n",
              "      fill: #1967D2;\n",
              "      height: 32px;\n",
              "      padding: 0 0 0 0;\n",
              "      width: 32px;\n",
              "    }\n",
              "\n",
              "    .colab-df-convert:hover {\n",
              "      background-color: #E2EBFA;\n",
              "      box-shadow: 0px 1px 2px rgba(60, 64, 67, 0.3), 0px 1px 3px 1px rgba(60, 64, 67, 0.15);\n",
              "      fill: #174EA6;\n",
              "    }\n",
              "\n",
              "    [theme=dark] .colab-df-convert {\n",
              "      background-color: #3B4455;\n",
              "      fill: #D2E3FC;\n",
              "    }\n",
              "\n",
              "    [theme=dark] .colab-df-convert:hover {\n",
              "      background-color: #434B5C;\n",
              "      box-shadow: 0px 1px 3px 1px rgba(0, 0, 0, 0.15);\n",
              "      filter: drop-shadow(0px 1px 2px rgba(0, 0, 0, 0.3));\n",
              "      fill: #FFFFFF;\n",
              "    }\n",
              "  </style>\n",
              "\n",
              "      <script>\n",
              "        const buttonEl =\n",
              "          document.querySelector('#df-2d3a1d4c-cf31-4b94-81bf-064b24fc241e button.colab-df-convert');\n",
              "        buttonEl.style.display =\n",
              "          google.colab.kernel.accessAllowed ? 'block' : 'none';\n",
              "\n",
              "        async function convertToInteractive(key) {\n",
              "          const element = document.querySelector('#df-2d3a1d4c-cf31-4b94-81bf-064b24fc241e');\n",
              "          const dataTable =\n",
              "            await google.colab.kernel.invokeFunction('convertToInteractive',\n",
              "                                                     [key], {});\n",
              "          if (!dataTable) return;\n",
              "\n",
              "          const docLinkHtml = 'Like what you see? Visit the ' +\n",
              "            '<a target=\"_blank\" href=https://colab.research.google.com/notebooks/data_table.ipynb>data table notebook</a>'\n",
              "            + ' to learn more about interactive tables.';\n",
              "          element.innerHTML = '';\n",
              "          dataTable['output_type'] = 'display_data';\n",
              "          await google.colab.output.renderOutput(dataTable, element);\n",
              "          const docLink = document.createElement('div');\n",
              "          docLink.innerHTML = docLinkHtml;\n",
              "          element.appendChild(docLink);\n",
              "        }\n",
              "      </script>\n",
              "    </div>\n",
              "  </div>\n",
              "  "
            ]
          },
          "metadata": {},
          "execution_count": 42
        }
      ]
    },
    {
      "cell_type": "code",
      "source": [
        "# XG Boost\n",
        "xgb = XGBClassifier()\n",
        "\n",
        "from sklearn.preprocessing import LabelEncoder\n",
        "le = LabelEncoder()\n",
        "y_train = le.fit_transform(y_train)\n",
        "\n",
        "xgb.fit(X_train_pro, y_train)\n",
        "\n",
        "pred_xgb = xgb.predict(X_test_pro)\n",
        "\n",
        "print(classification_report(pred_xgb, y_test))"
      ],
      "metadata": {
        "colab": {
          "base_uri": "https://localhost:8080/"
        },
        "id": "rbsZafyl4uD9",
        "outputId": "820669c4-21ad-4057-a963-5d7b11c6e2ca"
      },
      "execution_count": 43,
      "outputs": [
        {
          "output_type": "stream",
          "name": "stdout",
          "text": [
            "              precision    recall  f1-score   support\n",
            "\n",
            "         0.0       0.50      1.00      0.67         1\n",
            "         2.0       0.00      0.00      0.00         3\n",
            "         3.0       0.00      0.00      0.00         0\n",
            "         5.0       0.00      0.00      0.00         0\n",
            "         9.0       0.00      0.00      0.00         5\n",
            "        11.0       0.00      0.00      0.00         6\n",
            "        12.0       0.00      0.00      0.00         2\n",
            "        13.0       0.00      0.00      0.00         1\n",
            "        14.0       0.00      0.00      0.00         1\n",
            "        16.0       0.00      0.00      0.00         3\n",
            "        17.0       0.00      0.00      0.00         3\n",
            "        18.0       0.00      0.00      0.00         3\n",
            "        19.0       0.00      0.00      0.00         2\n",
            "        20.0       0.00      0.00      0.00         4\n",
            "        21.0       0.00      0.00      0.00         1\n",
            "        22.0       0.00      0.00      0.00         1\n",
            "        23.0       0.00      0.00      0.00         4\n",
            "        24.0       0.00      0.00      0.00         1\n",
            "        25.0       0.00      0.00      0.00         5\n",
            "        27.0       0.00      0.00      0.00         4\n",
            "        28.0       0.00      0.00      0.00         1\n",
            "        32.0       0.00      0.00      0.00         2\n",
            "        34.0       0.00      0.00      0.00         1\n",
            "        40.0       0.00      0.00      0.00         5\n",
            "        44.0       0.00      0.00      0.00         2\n",
            "        60.0       0.00      0.00      0.00         0\n",
            "        80.0       0.00      0.00      0.00         0\n",
            "        90.0       0.00      0.00      0.00         0\n",
            "       100.0       0.00      0.00      0.00         0\n",
            "       110.0       0.00      0.00      0.00         0\n",
            "       120.0       0.00      0.00      0.00         0\n",
            "       130.0       0.00      0.00      0.00         0\n",
            "       150.0       0.00      0.00      0.00         0\n",
            "       170.0       0.00      0.00      0.00         0\n",
            "       180.0       0.00      0.00      0.00         0\n",
            "       190.0       0.00      0.00      0.00         0\n",
            "       200.0       0.00      0.00      0.00         0\n",
            "       210.0       0.00      0.00      0.00         0\n",
            "       230.0       0.00      0.00      0.00         0\n",
            "       240.0       0.00      0.00      0.00         0\n",
            "       260.0       0.00      0.00      0.00         0\n",
            "       270.0       0.00      0.00      0.00         0\n",
            "       280.0       0.00      0.00      0.00         0\n",
            "       290.0       0.00      0.00      0.00         0\n",
            "       300.0       0.00      0.00      0.00         0\n",
            "       310.0       0.00      0.00      0.00         0\n",
            "       340.0       0.00      0.00      0.00         0\n",
            "       350.0       0.00      0.00      0.00         0\n",
            "       510.0       0.00      0.00      0.00         0\n",
            "\n",
            "    accuracy                           0.02        61\n",
            "   macro avg       0.01      0.02      0.01        61\n",
            "weighted avg       0.01      0.02      0.01        61\n",
            "\n"
          ]
        },
        {
          "output_type": "stream",
          "name": "stderr",
          "text": [
            "/usr/local/lib/python3.9/dist-packages/sklearn/metrics/_classification.py:1344: UndefinedMetricWarning: Precision and F-score are ill-defined and being set to 0.0 in labels with no predicted samples. Use `zero_division` parameter to control this behavior.\n",
            "  _warn_prf(average, modifier, msg_start, len(result))\n",
            "/usr/local/lib/python3.9/dist-packages/sklearn/metrics/_classification.py:1344: UndefinedMetricWarning: Recall and F-score are ill-defined and being set to 0.0 in labels with no true samples. Use `zero_division` parameter to control this behavior.\n",
            "  _warn_prf(average, modifier, msg_start, len(result))\n",
            "/usr/local/lib/python3.9/dist-packages/sklearn/metrics/_classification.py:1344: UndefinedMetricWarning: Precision and F-score are ill-defined and being set to 0.0 in labels with no predicted samples. Use `zero_division` parameter to control this behavior.\n",
            "  _warn_prf(average, modifier, msg_start, len(result))\n",
            "/usr/local/lib/python3.9/dist-packages/sklearn/metrics/_classification.py:1344: UndefinedMetricWarning: Recall and F-score are ill-defined and being set to 0.0 in labels with no true samples. Use `zero_division` parameter to control this behavior.\n",
            "  _warn_prf(average, modifier, msg_start, len(result))\n",
            "/usr/local/lib/python3.9/dist-packages/sklearn/metrics/_classification.py:1344: UndefinedMetricWarning: Precision and F-score are ill-defined and being set to 0.0 in labels with no predicted samples. Use `zero_division` parameter to control this behavior.\n",
            "  _warn_prf(average, modifier, msg_start, len(result))\n",
            "/usr/local/lib/python3.9/dist-packages/sklearn/metrics/_classification.py:1344: UndefinedMetricWarning: Recall and F-score are ill-defined and being set to 0.0 in labels with no true samples. Use `zero_division` parameter to control this behavior.\n",
            "  _warn_prf(average, modifier, msg_start, len(result))\n"
          ]
        }
      ]
    },
    {
      "cell_type": "markdown",
      "source": [
        "https://www.kaggle.com/code/prashant111/adaboost-classifier-tutorial"
      ],
      "metadata": {
        "id": "gSeMIlbjA7I5"
      }
    },
    {
      "cell_type": "markdown",
      "source": [
        "7. Advantages and disadvantages of AdaBoost ¶\n",
        "Back to Notebook Contents\n",
        "\n",
        "The advantages are as follows:\n",
        "\n",
        "AdaBoost is easy to implement.\n",
        "\n",
        "It iteratively corrects the mistakes of the weak classifier and improves accuracy by combining weak learners.\n",
        "\n",
        "We can use many base classifiers with AdaBoost.\n",
        "\n",
        "AdaBoost is not prone to overfitting.\n",
        "\n",
        "The disadvantages are as follows:\n",
        "\n",
        "AdaBoost is sensitive to noise data.\n",
        "\n",
        "It is highly affected by outliers because it tries to fit each point perfectly.\n",
        "\n",
        "AdaBoost is slower compared to XGBoost."
      ],
      "metadata": {
        "id": "VZy8v9wN8nNm"
      }
    }
  ]
}